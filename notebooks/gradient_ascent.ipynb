{
  "nbformat": 4,
  "nbformat_minor": 0,
  "metadata": {
    "colab": {
      "name": "gradient_descent.ipynb",
      "provenance": [],
      "collapsed_sections": [
        "khma6TN_k0-A"
      ],
      "authorship_tag": "ABX9TyMf5XCCRfujBPdtiuJJMSlM",
      "include_colab_link": true
    },
    "kernelspec": {
      "name": "python3",
      "display_name": "Python 3"
    },
    "language_info": {
      "name": "python"
    },
    "accelerator": "GPU",
    "gpuClass": "standard"
  },
  "cells": [
    {
      "cell_type": "markdown",
      "metadata": {
        "id": "view-in-github",
        "colab_type": "text"
      },
      "source": [
        "<a href=\"https://colab.research.google.com/github/ramanakshay/Optimal-Transport/blob/main/notebooks/gradient_ascent.ipynb\" target=\"_parent\"><img src=\"https://colab.research.google.com/assets/colab-badge.svg\" alt=\"Open In Colab\"/></a>"
      ]
    },
    {
      "cell_type": "markdown",
      "source": [
        "# Solving OT using Neural Networks"
      ],
      "metadata": {
        "id": "G4JPzPTxkp1m"
      }
    },
    {
      "cell_type": "markdown",
      "source": [
        "## Import Libraries"
      ],
      "metadata": {
        "id": "khma6TN_k0-A"
      }
    },
    {
      "cell_type": "code",
      "source": [
        "# Download and import the MIT 6.S191 package\n",
        "!pip install mitdeeplearning\n",
        "import mitdeeplearning as mdl\n",
        "\n",
        "# Import all remaining packages\n",
        "import numpy as np\n",
        "import os\n",
        "import time\n",
        "import functools\n",
        "from IPython import display as ipythondisplay\n",
        "from tqdm import tqdm\n",
        "!apt-get install abcmidi timidity > /dev/null 2>&1"
      ],
      "metadata": {
        "colab": {
          "base_uri": "https://localhost:8080/"
        },
        "id": "WyRW4t62l0UP",
        "outputId": "050f9ea2-fad9-4281-c18a-3bdcf7091cb0"
      },
      "execution_count": 1,
      "outputs": [
        {
          "output_type": "stream",
          "name": "stdout",
          "text": [
            "Looking in indexes: https://pypi.org/simple, https://us-python.pkg.dev/colab-wheels/public/simple/\n",
            "Collecting mitdeeplearning\n",
            "  Downloading mitdeeplearning-0.2.0.tar.gz (2.1 MB)\n",
            "\u001b[K     |████████████████████████████████| 2.1 MB 5.1 MB/s \n",
            "\u001b[?25hRequirement already satisfied: numpy in /usr/local/lib/python3.7/dist-packages (from mitdeeplearning) (1.21.6)\n",
            "Requirement already satisfied: regex in /usr/local/lib/python3.7/dist-packages (from mitdeeplearning) (2022.6.2)\n",
            "Requirement already satisfied: tqdm in /usr/local/lib/python3.7/dist-packages (from mitdeeplearning) (4.64.0)\n",
            "Requirement already satisfied: gym in /usr/local/lib/python3.7/dist-packages (from mitdeeplearning) (0.25.2)\n",
            "Requirement already satisfied: importlib-metadata>=4.8.0 in /usr/local/lib/python3.7/dist-packages (from gym->mitdeeplearning) (4.12.0)\n",
            "Requirement already satisfied: cloudpickle>=1.2.0 in /usr/local/lib/python3.7/dist-packages (from gym->mitdeeplearning) (1.5.0)\n",
            "Requirement already satisfied: gym-notices>=0.0.4 in /usr/local/lib/python3.7/dist-packages (from gym->mitdeeplearning) (0.0.8)\n",
            "Requirement already satisfied: zipp>=0.5 in /usr/local/lib/python3.7/dist-packages (from importlib-metadata>=4.8.0->gym->mitdeeplearning) (3.8.1)\n",
            "Requirement already satisfied: typing-extensions>=3.6.4 in /usr/local/lib/python3.7/dist-packages (from importlib-metadata>=4.8.0->gym->mitdeeplearning) (4.1.1)\n",
            "Building wheels for collected packages: mitdeeplearning\n",
            "  Building wheel for mitdeeplearning (setup.py) ... \u001b[?25l\u001b[?25hdone\n",
            "  Created wheel for mitdeeplearning: filename=mitdeeplearning-0.2.0-py3-none-any.whl size=2115442 sha256=700c080da9ce1dbdb3a7f3de775b1009e9f4e32aacefa9ba072e4edac3f84b0d\n",
            "  Stored in directory: /root/.cache/pip/wheels/9a/b9/4f/99b7c8c5c75355550b83e1fcfc02956fb40c35eb01e2262877\n",
            "Successfully built mitdeeplearning\n",
            "Installing collected packages: mitdeeplearning\n",
            "Successfully installed mitdeeplearning-0.2.0\n"
          ]
        }
      ]
    },
    {
      "cell_type": "code",
      "source": [
        "!pip install pot"
      ],
      "metadata": {
        "colab": {
          "base_uri": "https://localhost:8080/"
        },
        "id": "Yg4_UNBxkWSE",
        "outputId": "161752d7-3dcf-41d4-92a0-1eb6bcd45633"
      },
      "execution_count": 2,
      "outputs": [
        {
          "output_type": "stream",
          "name": "stdout",
          "text": [
            "Looking in indexes: https://pypi.org/simple, https://us-python.pkg.dev/colab-wheels/public/simple/\n",
            "Collecting pot\n",
            "  Downloading POT-0.8.2-cp37-cp37m-manylinux_2_12_x86_64.manylinux2010_x86_64.whl (664 kB)\n",
            "\u001b[K     |████████████████████████████████| 664 kB 5.1 MB/s \n",
            "\u001b[?25hRequirement already satisfied: numpy>=1.16 in /usr/local/lib/python3.7/dist-packages (from pot) (1.21.6)\n",
            "Requirement already satisfied: scipy>=1.0 in /usr/local/lib/python3.7/dist-packages (from pot) (1.7.3)\n",
            "Installing collected packages: pot\n",
            "Successfully installed pot-0.8.2\n"
          ]
        }
      ]
    },
    {
      "cell_type": "code",
      "source": [
        "user = 'ramanakshay'\n",
        "repo = 'Optimal-Transport'\n",
        "\n",
        "url = f\"git+https://github.com/{user}/{repo}.git\"\n",
        "!pip install --upgrade {url}"
      ],
      "metadata": {
        "colab": {
          "base_uri": "https://localhost:8080/"
        },
        "id": "NShVdFxHj_qf",
        "outputId": "e8ba089a-e83d-47b0-e105-828482e981a3"
      },
      "execution_count": 3,
      "outputs": [
        {
          "output_type": "stream",
          "name": "stdout",
          "text": [
            "Looking in indexes: https://pypi.org/simple, https://us-python.pkg.dev/colab-wheels/public/simple/\n",
            "Collecting git+https://github.com/ramanakshay/Optimal-Transport.git\n",
            "  Cloning https://github.com/ramanakshay/Optimal-Transport.git to /tmp/pip-req-build-gug99doe\n",
            "  Running command git clone -q https://github.com/ramanakshay/Optimal-Transport.git /tmp/pip-req-build-gug99doe\n",
            "Requirement already satisfied: numpy in /usr/local/lib/python3.7/dist-packages (from utils==0.1.0) (1.21.6)\n",
            "Requirement already satisfied: matplotlib in /usr/local/lib/python3.7/dist-packages (from utils==0.1.0) (3.2.2)\n",
            "Requirement already satisfied: pyparsing!=2.0.4,!=2.1.2,!=2.1.6,>=2.0.1 in /usr/local/lib/python3.7/dist-packages (from matplotlib->utils==0.1.0) (3.0.9)\n",
            "Requirement already satisfied: kiwisolver>=1.0.1 in /usr/local/lib/python3.7/dist-packages (from matplotlib->utils==0.1.0) (1.4.4)\n",
            "Requirement already satisfied: cycler>=0.10 in /usr/local/lib/python3.7/dist-packages (from matplotlib->utils==0.1.0) (0.11.0)\n",
            "Requirement already satisfied: python-dateutil>=2.1 in /usr/local/lib/python3.7/dist-packages (from matplotlib->utils==0.1.0) (2.8.2)\n",
            "Requirement already satisfied: typing-extensions in /usr/local/lib/python3.7/dist-packages (from kiwisolver>=1.0.1->matplotlib->utils==0.1.0) (4.1.1)\n",
            "Requirement already satisfied: six>=1.5 in /usr/local/lib/python3.7/dist-packages (from python-dateutil>=2.1->matplotlib->utils==0.1.0) (1.15.0)\n",
            "Building wheels for collected packages: utils\n",
            "  Building wheel for utils (setup.py) ... \u001b[?25l\u001b[?25hdone\n",
            "  Created wheel for utils: filename=utils-0.1.0-py3-none-any.whl size=3561 sha256=dfd96ac45854633df03e39b0098086beb2cb0a135770966036cd3485cc65bcc1\n",
            "  Stored in directory: /tmp/pip-ephem-wheel-cache-6qqn8v_j/wheels/83/c1/b0/8b4aae55c1a6c852e5e98d2e522e0c76c069f92e4d3885455f\n",
            "Successfully built utils\n",
            "Installing collected packages: utils\n",
            "Successfully installed utils-0.1.0\n"
          ]
        }
      ]
    },
    {
      "cell_type": "code",
      "execution_count": 4,
      "metadata": {
        "id": "cGmLjgIOjbYe"
      },
      "outputs": [],
      "source": [
        "import tensorflow as tf\n",
        "\n",
        "import ot  # ot\n",
        "import ot.plot\n",
        "\n",
        "import numpy as np\n",
        "import matplotlib.pyplot as plt"
      ]
    },
    {
      "cell_type": "code",
      "source": [
        "from utils.plot import plot_matrix,plot_2d_map\n",
        "from utils.dist import find_cost_tensor\n",
        "from utils.data import gaussian_mix,dispersion_density"
      ],
      "metadata": {
        "id": "OWkBxiMPkDO2"
      },
      "execution_count": 5,
      "outputs": []
    },
    {
      "cell_type": "markdown",
      "source": [
        "## Marginal"
      ],
      "metadata": {
        "id": "f8HqXCa8k76b"
      }
    },
    {
      "cell_type": "code",
      "source": [
        "def dispersion_density(size,R):\n",
        "  assert R <= 58*size/64  and R >= 0\n",
        "  return gaussian_mix(size,[size//2 + R/2,size//2 - R/2],[size/32,size/32],[1,1.5])"
      ],
      "metadata": {
        "id": "bmucTmfN0xxy"
      },
      "execution_count": 107,
      "outputs": []
    },
    {
      "cell_type": "code",
      "source": [
        "n = 2\n",
        "size = 100\n",
        "\n",
        "#a = gaussian_mix(size,[size/2],[size/8],[1])\n",
        "a = dispersion_density(size,60)\n",
        "input_shape = a.shape\n",
        "\n",
        "print('Input Shape:',input_shape)\n",
        "\n",
        "x = np.array([[i,] for i in range(size)]) # defining the space\n",
        "X = np.tile(x.T,(n,1))"
      ],
      "metadata": {
        "id": "0a_9FZEXkJvB",
        "colab": {
          "base_uri": "https://localhost:8080/"
        },
        "outputId": "dae76e1b-ed30-418c-e936-753109be7b40"
      },
      "execution_count": 108,
      "outputs": [
        {
          "output_type": "stream",
          "name": "stdout",
          "text": [
            "Input Shape: (100,)\n"
          ]
        }
      ]
    },
    {
      "cell_type": "code",
      "source": [
        "#Plot distribution\n",
        "plt.figure(figsize=(10, 5))\n",
        "plt.plot(x, a, 'b',label = 'Gaussian')\n",
        "plt.legend()\n",
        "plt.show()"
      ],
      "metadata": {
        "colab": {
          "base_uri": "https://localhost:8080/",
          "height": 322
        },
        "id": "m8Ot5arNlRxn",
        "outputId": "e78d90f3-2d73-4eb7-82a6-e2e4c40b34cb"
      },
      "execution_count": 111,
      "outputs": [
        {
          "output_type": "display_data",
          "data": {
            "text/plain": [
              "<Figure size 720x360 with 1 Axes>"
            ],
            "image/png": "[encoded data removed]"
          },
          "metadata": {
            "needs_background": "light"
          }
        }
      ]
    },
    {
      "cell_type": "markdown",
      "source": [
        "## Cost Tensor"
      ],
      "metadata": {
        "id": "yduvHgQ0lk3V"
      }
    },
    {
      "cell_type": "code",
      "source": [
        "C = find_cost_tensor(X)\n",
        "print('Cost Tensor:',C.shape)\n",
        "plot_matrix(C,x,x)\n",
        "print(C.max())"
      ],
      "metadata": {
        "colab": {
          "base_uri": "https://localhost:8080/",
          "height": 516
        },
        "id": "uC8xb5aXle7z",
        "outputId": "9730299a-2799-4f12-9847-cd8ebdb09c2c"
      },
      "execution_count": 112,
      "outputs": [
        {
          "output_type": "stream",
          "name": "stdout",
          "text": [
            "Cost Tensor: (100, 100)\n"
          ]
        },
        {
          "output_type": "display_data",
          "data": {
            "text/plain": [
              "<Figure size 432x288 with 1 Axes>"
            ],
            "image/png": "[encoded data removed]"
          },
          "metadata": {
            "needs_background": "light"
          }
        },
        {
          "output_type": "stream",
          "name": "stdout",
          "text": [
            "1.0\n"
          ]
        }
      ]
    },
    {
      "cell_type": "code",
      "source": [
        "from tensorflow.keras.applications.resnet50 import ResNet50\n",
        "from tensorflow.keras.layers import Input, GlobalAveragePooling2D, Dropout, Dense, Flatten\n",
        "\n",
        "initializer = tf.keras.initializers.Zeros()"
      ],
      "metadata": {
        "id": "7167UTvEuIYe"
      },
      "execution_count": 113,
      "outputs": []
    },
    {
      "cell_type": "code",
      "source": [
        "def build_model(input_shape,marginals):\n",
        "  model = tf.keras.Sequential([\n",
        "    #Dense(i, input_shape=input_shape, use_bias=False,activation = 'sigmoid',kernel_initializer=tf.keras.initializers.Zeros()), \n",
        "    Dense(200,input_shape = input_shape,activation='softmax',kernel_initializer= initializer),\n",
        "    Dense(300,input_shape = input_shape,activation='relu',kernel_initializer= initializer),\n",
        "    Dense(400,input_shape = input_shape,activation='relu',kernel_initializer= initializer),\n",
        "    Dense(500,input_shape = input_shape,activation='relu',kernel_initializer= initializer),\n",
        "    Dense(400,input_shape = input_shape,activation='relu',kernel_initializer= initializer),\n",
        "    Dense(300,input_shape = input_shape,activation='relu',kernel_initializer= initializer),\n",
        "    Dense(200,input_shape = input_shape,activation='relu',kernel_initializer= initializer),\n",
        "    Dense(size,kernel_initializer=initializer)\n",
        "])\n",
        "  return model"
      ],
      "metadata": {
        "id": "bDqisxxylv0s"
      },
      "execution_count": 115,
      "outputs": []
    },
    {
      "cell_type": "code",
      "source": [
        "model = build_model(input_shape,n)"
      ],
      "metadata": {
        "id": "hPWtd_7Alv7g"
      },
      "execution_count": 116,
      "outputs": []
    },
    {
      "cell_type": "code",
      "source": [
        "model.summary()"
      ],
      "metadata": {
        "colab": {
          "base_uri": "https://localhost:8080/"
        },
        "id": "AD9TXXVzlv-X",
        "outputId": "2982f29a-e140-4186-c41e-861031106a98"
      },
      "execution_count": 117,
      "outputs": [
        {
          "output_type": "stream",
          "name": "stdout",
          "text": [
            "Model: \"sequential_24\"\n",
            "_________________________________________________________________\n",
            " Layer (type)                Output Shape              Param #   \n",
            "=================================================================\n",
            " dense_177 (Dense)           (None, 200)               20200     \n",
            "                                                                 \n",
            " dense_178 (Dense)           (None, 300)               60300     \n",
            "                                                                 \n",
            " dense_179 (Dense)           (None, 400)               120400    \n",
            "                                                                 \n",
            " dense_180 (Dense)           (None, 500)               200500    \n",
            "                                                                 \n",
            " dense_181 (Dense)           (None, 400)               200400    \n",
            "                                                                 \n",
            " dense_182 (Dense)           (None, 300)               120300    \n",
            "                                                                 \n",
            " dense_183 (Dense)           (None, 200)               60200     \n",
            "                                                                 \n",
            " dense_184 (Dense)           (None, 100)               20100     \n",
            "                                                                 \n",
            "=================================================================\n",
            "Total params: 802,400\n",
            "Trainable params: 802,400\n",
            "Non-trainable params: 0\n",
            "_________________________________________________________________\n"
          ]
        }
      ]
    },
    {
      "cell_type": "code",
      "source": [
        "def objective_entropy(f,epsilon):\n",
        "  L = n*tf.math.reduce_sum(f*a)\n",
        "  u = tf.math.exp(f/epsilon)\n",
        "  P =  np.exp(-C/epsilon)\n",
        "  for i in range(n):\n",
        "    axes = [1,]*n\n",
        "    axes[i] = size\n",
        "    P *= tf.reshape(u,axes)\n",
        "  L -= epsilon*tf.reduce_sum(P)\n",
        "  return L"
      ],
      "metadata": {
        "id": "xkB9KO2oXWzO"
      },
      "execution_count": 118,
      "outputs": []
    },
    {
      "cell_type": "code",
      "source": [
        "def objective_dual(f,ld):\n",
        "  L = n*tf.math.reduce_sum(f*a)\n",
        "  P = C\n",
        "  for i in range(n):\n",
        "    axes = [1,]*n\n",
        "    axes[i] = size\n",
        "    P -= tf.reshape(u,axes)\n",
        "  L -= ld*tf.reduce_sum(P)\n",
        "  return L"
      ],
      "metadata": {
        "id": "SI5zpGy3vImj"
      },
      "execution_count": 119,
      "outputs": []
    },
    {
      "cell_type": "code",
      "source": [
        "def plot_coupling(f):\n",
        "  P =  np.exp(-C/epsilon)\n",
        "  u = np.exp(f.numpy().T/epsilon)\n",
        "  for i in range(n):\n",
        "    axes = [1,]*n\n",
        "    axes[i] = size\n",
        "    axes = tuple(axes)\n",
        "    P *= np.reshape(u,axes)\n",
        "\n",
        "  #Pm = np.sum(P,axis = (2))\n",
        "  plot_matrix(P,x,x)"
      ],
      "metadata": {
        "id": "hnFjUH0re95t"
      },
      "execution_count": 136,
      "outputs": []
    },
    {
      "cell_type": "code",
      "source": [
        "epsilon = 1e-3\n",
        "ld = 1e-2"
      ],
      "metadata": {
        "id": "EfiSs0L2Zf78"
      },
      "execution_count": 137,
      "outputs": []
    },
    {
      "cell_type": "code",
      "source": [
        "### Hyperparameter setting and optimization ###\n",
        "\n",
        "# Optimization parameters:\n",
        "num_training_iterations = 13000\n",
        "learning_rate = 5e-6\n",
        "lr_schedule = tf.keras.optimizers.schedules.ExponentialDecay(\n",
        "    learning_rate,\n",
        "    decay_steps=5000,\n",
        "    decay_rate=0.65,\n",
        "    staircase=True)\n"
      ],
      "metadata": {
        "id": "1Zf2FIsxlwML"
      },
      "execution_count": 158,
      "outputs": []
    },
    {
      "cell_type": "code",
      "source": [
        "from IPython.display import clear_output"
      ],
      "metadata": {
        "id": "9lxSOx_AfWPE"
      },
      "execution_count": 159,
      "outputs": []
    },
    {
      "cell_type": "code",
      "source": [
        "model = build_model(input_shape,n)\n",
        "\n",
        "optimizer = tf.keras.optimizers.Adamax(learning_rate = lr_schedule)\n",
        "\n",
        "@tf.function\n",
        "def train_step(a):\n",
        "  with tf.GradientTape() as tape:\n",
        "    f = model(a)\n",
        "    loss = -objective_entropy(f,epsilon)\n",
        "\n",
        "  grads = tape.gradient(loss, model.trainable_variables)\n",
        "\n",
        "  optimizer.apply_gradients(zip(grads, model.trainable_variables))\n",
        "  return loss,f\n",
        "\n",
        "history = []\n",
        "plotter = mdl.util.PeriodicPlotter(sec=2, xlabel='Iterations', ylabel='Loss')\n",
        "if hasattr(tqdm, '_instances'): tqdm._instances.clear() # clear if it exists\n",
        "\n",
        "for iter in tqdm(range(num_training_iterations)):\n",
        "\n",
        "  # Grab a batch and propagate it through the network\n",
        "  loss,f = train_step(a.reshape(1,size))\n",
        "\n",
        "  if (iter%(num_training_iterations/250) == 0):\n",
        "    clear_output(wait=True)\n",
        "    plot_coupling(f)\n",
        "    \n",
        "  # Update the progress bar\n",
        "  #history.append(loss.numpy().mean())\n",
        "  #plotter.plot(history)"
      ],
      "metadata": {
        "colab": {
          "base_uri": "https://localhost:8080/",
          "height": 498
        },
        "id": "tpPdDGkFkYHj",
        "outputId": "56dc4ff7-1150-4e42-8681-e55b4f0b0a81"
      },
      "execution_count": 160,
      "outputs": [
        {
          "output_type": "display_data",
          "data": {
            "text/plain": [
              "<Figure size 432x288 with 1 Axes>"
            ],
            "image/png": "[encoded data removed]"
          },
          "metadata": {
            "needs_background": "light"
          }
        },
        {
          "output_type": "stream",
          "name": "stderr",
          "text": [
            "100%|██████████| 13000/13000 [01:36<00:00, 134.15it/s]\n"
          ]
        }
      ]
    },
    {
      "cell_type": "code",
      "source": [
        "f = model(a.reshape(1,size))\n",
        "# f = list(map(float,f.split()))\n",
        "print()\n",
        "x = np.array([[i,] for i in range(size)])\n",
        "print(objective_entropy(f,epsilon))\n",
        "#Plot distribution\n",
        "plt.figure(figsize=(10, 5))\n",
        "plt.plot(x, f.numpy().T, 'b',label = 'Potential')\n",
        "plt.legend()\n",
        "plt.show()"
      ],
      "metadata": {
        "colab": {
          "base_uri": "https://localhost:8080/",
          "height": 356
        },
        "id": "-rcZalgmrfGd",
        "outputId": "b5c426b2-dbc4-4472-b8ab-3863fbb73cef"
      },
      "execution_count": 161,
      "outputs": [
        {
          "output_type": "stream",
          "name": "stdout",
          "text": [
            "\n",
            "tf.Tensor(0.024253484, shape=(), dtype=float32)\n"
          ]
        },
        {
          "output_type": "display_data",
          "data": {
            "text/plain": [
              "<Figure size 720x360 with 1 Axes>"
            ],
            "image/png": "[encoded data removed]"
          },
          "metadata": {
            "needs_background": "light"
          }
        }
      ]
    },
    {
      "cell_type": "code",
      "source": [
        "P =  np.exp(-C/epsilon)\n",
        "u = np.exp(f.numpy().T/epsilon)\n",
        "for i in range(n):\n",
        "  axes = [1,]*n\n",
        "  axes[i] = size\n",
        "  axes = tuple(axes)\n",
        "  P *= np.reshape(u,axes)\n",
        "\n",
        "#Pm = np.sum(P,axis = (2))\n",
        "plt.figure(figsize=(7, 7))\n",
        "ot.plot.plot1D_mat(a, a, P, 'Coupling Projection')"
      ],
      "metadata": {
        "colab": {
          "base_uri": "https://localhost:8080/",
          "height": 513
        },
        "id": "532LbPS7q49j",
        "outputId": "9d9fd507-77b7-4c2f-e036-e5d0dd29952e"
      },
      "execution_count": 163,
      "outputs": [
        {
          "output_type": "display_data",
          "data": {
            "text/plain": [
              "<Figure size 504x504 with 3 Axes>"
            ],
            "image/png": "[encoded data removed]"
          },
          "metadata": {
            "needs_background": "light"
          }
        }
      ]
    }
  ]
}