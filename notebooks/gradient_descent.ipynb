{
  "nbformat": 4,
  "nbformat_minor": 0,
  "metadata": {
    "colab": {
      "provenance": [],
      "collapsed_sections": [
        "khma6TN_k0-A"
      ],
      "authorship_tag": "ABX9TyOR/4WfqVXjbtClXaGg4uGw",
      "include_colab_link": true
    },
    "kernelspec": {
      "name": "python3",
      "display_name": "Python 3"
    },
    "language_info": {
      "name": "python"
    },
    "accelerator": "GPU",
    "gpuClass": "standard"
  },
  "cells": [
    {
      "cell_type": "markdown",
      "metadata": {
        "id": "view-in-github",
        "colab_type": "text"
      },
      "source": [
        "<a href=\"https://colab.research.google.com/github/ramanakshay/Optimal-Transport/blob/main/notebooks/gradient_descent.ipynb\" target=\"_parent\"><img src=\"https://colab.research.google.com/assets/colab-badge.svg\" alt=\"Open In Colab\"/></a>"
      ]
    },
    {
      "cell_type": "markdown",
      "source": [
        "# Solving OT using Neural Networks"
      ],
      "metadata": {
        "id": "G4JPzPTxkp1m"
      }
    },
    {
      "cell_type": "markdown",
      "source": [
        "## Import Libraries"
      ],
      "metadata": {
        "id": "khma6TN_k0-A"
      }
    },
    {
      "cell_type": "code",
      "source": [
        "# Download and import the MIT 6.S191 package\n",
        "!pip install mitdeeplearning\n",
        "import mitdeeplearning as mdl\n",
        "\n",
        "# Import all remaining packages\n",
        "import numpy as np\n",
        "import os\n",
        "import time\n",
        "import functools\n",
        "from IPython import display as ipythondisplay\n",
        "from tqdm import tqdm\n",
        "!apt-get install abcmidi timidity > /dev/null 2>&1"
      ],
      "metadata": {
        "colab": {
          "base_uri": "https://localhost:8080/"
        },
        "id": "WyRW4t62l0UP",
        "outputId": "ebca971e-be4c-4ab2-cb35-01691b171412"
      },
      "execution_count": 1,
      "outputs": [
        {
          "output_type": "stream",
          "name": "stdout",
          "text": [
            "Looking in indexes: https://pypi.org/simple, https://us-python.pkg.dev/colab-wheels/public/simple/\n",
            "Collecting mitdeeplearning\n",
            "  Downloading mitdeeplearning-0.2.0.tar.gz (2.1 MB)\n",
            "\u001b[K     |████████████████████████████████| 2.1 MB 28.2 MB/s \n",
            "\u001b[?25hRequirement already satisfied: numpy in /usr/local/lib/python3.7/dist-packages (from mitdeeplearning) (1.21.6)\n",
            "Requirement already satisfied: regex in /usr/local/lib/python3.7/dist-packages (from mitdeeplearning) (2022.6.2)\n",
            "Requirement already satisfied: tqdm in /usr/local/lib/python3.7/dist-packages (from mitdeeplearning) (4.64.0)\n",
            "Requirement already satisfied: gym in /usr/local/lib/python3.7/dist-packages (from mitdeeplearning) (0.25.2)\n",
            "Requirement already satisfied: cloudpickle>=1.2.0 in /usr/local/lib/python3.7/dist-packages (from gym->mitdeeplearning) (1.5.0)\n",
            "Requirement already satisfied: importlib-metadata>=4.8.0 in /usr/local/lib/python3.7/dist-packages (from gym->mitdeeplearning) (4.12.0)\n",
            "Requirement already satisfied: gym-notices>=0.0.4 in /usr/local/lib/python3.7/dist-packages (from gym->mitdeeplearning) (0.0.8)\n",
            "Requirement already satisfied: zipp>=0.5 in /usr/local/lib/python3.7/dist-packages (from importlib-metadata>=4.8.0->gym->mitdeeplearning) (3.8.1)\n",
            "Requirement already satisfied: typing-extensions>=3.6.4 in /usr/local/lib/python3.7/dist-packages (from importlib-metadata>=4.8.0->gym->mitdeeplearning) (4.1.1)\n",
            "Building wheels for collected packages: mitdeeplearning\n",
            "  Building wheel for mitdeeplearning (setup.py) ... \u001b[?25l\u001b[?25hdone\n",
            "  Created wheel for mitdeeplearning: filename=mitdeeplearning-0.2.0-py3-none-any.whl size=2115442 sha256=775c52ef1467b36148d0c143c2361563b67564d083295edddc5ca0fccf46fb65\n",
            "  Stored in directory: /root/.cache/pip/wheels/9a/b9/4f/99b7c8c5c75355550b83e1fcfc02956fb40c35eb01e2262877\n",
            "Successfully built mitdeeplearning\n",
            "Installing collected packages: mitdeeplearning\n",
            "Successfully installed mitdeeplearning-0.2.0\n"
          ]
        }
      ]
    },
    {
      "cell_type": "code",
      "source": [
        "!pip install pot"
      ],
      "metadata": {
        "colab": {
          "base_uri": "https://localhost:8080/"
        },
        "id": "Yg4_UNBxkWSE",
        "outputId": "c96a4d33-43d1-407c-8b1e-6244d30caa48"
      },
      "execution_count": 2,
      "outputs": [
        {
          "output_type": "stream",
          "name": "stdout",
          "text": [
            "Looking in indexes: https://pypi.org/simple, https://us-python.pkg.dev/colab-wheels/public/simple/\n",
            "Collecting pot\n",
            "  Downloading POT-0.8.2-cp37-cp37m-manylinux_2_12_x86_64.manylinux2010_x86_64.whl (664 kB)\n",
            "\u001b[K     |████████████████████████████████| 664 kB 11.8 MB/s \n",
            "\u001b[?25hRequirement already satisfied: scipy>=1.0 in /usr/local/lib/python3.7/dist-packages (from pot) (1.7.3)\n",
            "Requirement already satisfied: numpy>=1.16 in /usr/local/lib/python3.7/dist-packages (from pot) (1.21.6)\n",
            "Installing collected packages: pot\n",
            "Successfully installed pot-0.8.2\n"
          ]
        }
      ]
    },
    {
      "cell_type": "code",
      "source": [
        "user = 'ramanakshay'\n",
        "repo = 'Optimal-Transport'\n",
        "\n",
        "url = f\"git+https://github.com/{user}/{repo}.git\"\n",
        "!pip install --upgrade {url}"
      ],
      "metadata": {
        "colab": {
          "base_uri": "https://localhost:8080/"
        },
        "id": "NShVdFxHj_qf",
        "outputId": "544c92e0-e367-4403-bbed-52e642ead804"
      },
      "execution_count": 3,
      "outputs": [
        {
          "output_type": "stream",
          "name": "stdout",
          "text": [
            "Looking in indexes: https://pypi.org/simple, https://us-python.pkg.dev/colab-wheels/public/simple/\n",
            "Collecting git+https://github.com/ramanakshay/Optimal-Transport.git\n",
            "  Cloning https://github.com/ramanakshay/Optimal-Transport.git to /tmp/pip-req-build-cit74_tn\n",
            "  Running command git clone -q https://github.com/ramanakshay/Optimal-Transport.git /tmp/pip-req-build-cit74_tn\n",
            "Requirement already satisfied: numpy in /usr/local/lib/python3.7/dist-packages (from utils==0.1.0) (1.21.6)\n",
            "Requirement already satisfied: matplotlib in /usr/local/lib/python3.7/dist-packages (from utils==0.1.0) (3.2.2)\n",
            "Requirement already satisfied: python-dateutil>=2.1 in /usr/local/lib/python3.7/dist-packages (from matplotlib->utils==0.1.0) (2.8.2)\n",
            "Requirement already satisfied: cycler>=0.10 in /usr/local/lib/python3.7/dist-packages (from matplotlib->utils==0.1.0) (0.11.0)\n",
            "Requirement already satisfied: kiwisolver>=1.0.1 in /usr/local/lib/python3.7/dist-packages (from matplotlib->utils==0.1.0) (1.4.4)\n",
            "Requirement already satisfied: pyparsing!=2.0.4,!=2.1.2,!=2.1.6,>=2.0.1 in /usr/local/lib/python3.7/dist-packages (from matplotlib->utils==0.1.0) (3.0.9)\n",
            "Requirement already satisfied: typing-extensions in /usr/local/lib/python3.7/dist-packages (from kiwisolver>=1.0.1->matplotlib->utils==0.1.0) (4.1.1)\n",
            "Requirement already satisfied: six>=1.5 in /usr/local/lib/python3.7/dist-packages (from python-dateutil>=2.1->matplotlib->utils==0.1.0) (1.15.0)\n",
            "Building wheels for collected packages: utils\n",
            "  Building wheel for utils (setup.py) ... \u001b[?25l\u001b[?25hdone\n",
            "  Created wheel for utils: filename=utils-0.1.0-py3-none-any.whl size=3561 sha256=1bcf1ad70c96da72e90b8e9e280feca0507eb82a3242aad4cf2ad0ba4df92002\n",
            "  Stored in directory: /tmp/pip-ephem-wheel-cache-aivnnm69/wheels/83/c1/b0/8b4aae55c1a6c852e5e98d2e522e0c76c069f92e4d3885455f\n",
            "Successfully built utils\n",
            "Installing collected packages: utils\n",
            "Successfully installed utils-0.1.0\n"
          ]
        }
      ]
    },
    {
      "cell_type": "code",
      "execution_count": 4,
      "metadata": {
        "id": "cGmLjgIOjbYe"
      },
      "outputs": [],
      "source": [
        "import tensorflow as tf\n",
        "\n",
        "import ot  # ot\n",
        "import ot.plot\n",
        "\n",
        "import numpy as np\n",
        "import matplotlib.pyplot as plt"
      ]
    },
    {
      "cell_type": "code",
      "source": [
        "from utils.plot import plot_matrix,plot_2d_map\n",
        "from utils.dist import find_cost_tensor\n",
        "from utils.data import gaussian_mix,dispersion_density,lorentzian,uniform_density"
      ],
      "metadata": {
        "id": "OWkBxiMPkDO2"
      },
      "execution_count": 194,
      "outputs": []
    },
    {
      "cell_type": "markdown",
      "source": [
        "## Marginal"
      ],
      "metadata": {
        "id": "f8HqXCa8k76b"
      }
    },
    {
      "cell_type": "code",
      "source": [
        "def dispersion_density(size,R):\n",
        "  assert R <= 58*size/64  and R >= 0\n",
        "  return gaussian_mix(size,[size//2 + R/2,size//2 - R/2],[size/32,size/32],[1,1.5])"
      ],
      "metadata": {
        "id": "bmucTmfN0xxy"
      },
      "execution_count": 195,
      "outputs": []
    },
    {
      "cell_type": "code",
      "source": [
        "n = 2\n",
        "size = 100\n",
        "\n",
        "a = gaussian_mix(size,[size/2],[size/8],[1])\n",
        "#a = dispersion_density(size,60)\n",
        "input_shape = a.shape\n",
        "\n",
        "print('Input Shape:',input_shape)\n",
        "\n",
        "x = np.array([[i,] for i in range(size)]) # defining the space\n",
        "X = np.tile(x.T,(n,1))"
      ],
      "metadata": {
        "id": "0a_9FZEXkJvB",
        "colab": {
          "base_uri": "https://localhost:8080/"
        },
        "outputId": "34f0184b-6953-411c-c250-2f083d6f46bf"
      },
      "execution_count": 197,
      "outputs": [
        {
          "output_type": "stream",
          "name": "stdout",
          "text": [
            "Input Shape: (100,)\n"
          ]
        }
      ]
    },
    {
      "cell_type": "code",
      "source": [
        "#Plot distribution\n",
        "plt.figure(figsize=(10, 5))\n",
        "plt.plot(x, a, 'b',label = 'Gaussian')\n",
        "plt.legend()\n",
        "plt.show()"
      ],
      "metadata": {
        "colab": {
          "base_uri": "https://localhost:8080/",
          "height": 320
        },
        "id": "m8Ot5arNlRxn",
        "outputId": "7d7d444a-e3a0-4541-fd06-ce27b124489d"
      },
      "execution_count": 198,
      "outputs": [
        {
          "output_type": "display_data",
          "data": {
            "text/plain": [
              "<Figure size 720x360 with 1 Axes>"
            ],
            "image/png": "[encoded data removed]"
          },
          "metadata": {
            "needs_background": "light"
          }
        }
      ]
    },
    {
      "cell_type": "markdown",
      "source": [
        "## Cost Tensor"
      ],
      "metadata": {
        "id": "yduvHgQ0lk3V"
      }
    },
    {
      "cell_type": "code",
      "source": [
        "C = find_cost_tensor(X)\n",
        "print('Cost Tensor:',C.shape)\n",
        "plot_matrix(C,x,x)\n",
        "print(C.max())"
      ],
      "metadata": {
        "colab": {
          "base_uri": "https://localhost:8080/",
          "height": 516
        },
        "id": "uC8xb5aXle7z",
        "outputId": "69896329-dd2a-41d7-de20-22fe87edd27f"
      },
      "execution_count": 199,
      "outputs": [
        {
          "output_type": "stream",
          "name": "stdout",
          "text": [
            "Cost Tensor: (100, 100)\n"
          ]
        },
        {
          "output_type": "display_data",
          "data": {
            "text/plain": [
              "<Figure size 432x288 with 1 Axes>"
            ],
            "image/png": "[encoded data removed]"
          },
          "metadata": {
            "needs_background": "light"
          }
        },
        {
          "output_type": "stream",
          "name": "stdout",
          "text": [
            "1.0\n"
          ]
        }
      ]
    },
    {
      "cell_type": "code",
      "source": [
        "from tensorflow.keras.applications.resnet50 import ResNet50\n",
        "from tensorflow.keras.layers import Input, GlobalAveragePooling2D, Dropout, Dense, Flatten\n",
        "\n",
        "initializer = tf.keras.initializers.Zeros()"
      ],
      "metadata": {
        "id": "7167UTvEuIYe"
      },
      "execution_count": 168,
      "outputs": []
    },
    {
      "cell_type": "code",
      "source": [
        "def build_model(input_shape,marginals):\n",
        "  model = tf.keras.Sequential([\n",
        "    #Dense(i, input_shape=input_shape, use_bias=False,activation = 'sigmoid',kernel_initializer=tf.keras.initializers.Zeros()), \n",
        "    #Dense(200,input_shape = input_shape,activation='softmax',kernel_initializer= initializer),\n",
        "    Dense(200,input_shape = input_shape,activation='relu',kernel_initializer= initializer),\n",
        "    Dense(size,input_shape = input_shape,kernel_initializer=initializer)\n",
        "])\n",
        "  return model"
      ],
      "metadata": {
        "id": "bDqisxxylv0s"
      },
      "execution_count": 169,
      "outputs": []
    },
    {
      "cell_type": "code",
      "source": [
        "model = build_model(input_shape,n)"
      ],
      "metadata": {
        "id": "hPWtd_7Alv7g"
      },
      "execution_count": 170,
      "outputs": []
    },
    {
      "cell_type": "code",
      "source": [
        "model.summary()"
      ],
      "metadata": {
        "colab": {
          "base_uri": "https://localhost:8080/"
        },
        "id": "AD9TXXVzlv-X",
        "outputId": "6550db5b-271a-4c63-d5b7-c4e5df95ff1d"
      },
      "execution_count": 171,
      "outputs": [
        {
          "output_type": "stream",
          "name": "stdout",
          "text": [
            "Model: \"sequential_49\"\n",
            "_________________________________________________________________\n",
            " Layer (type)                Output Shape              Param #   \n",
            "=================================================================\n",
            " dense_346 (Dense)           (None, 200)               20200     \n",
            "                                                                 \n",
            " dense_347 (Dense)           (None, 100)               20100     \n",
            "                                                                 \n",
            "=================================================================\n",
            "Total params: 40,300\n",
            "Trainable params: 40,300\n",
            "Non-trainable params: 0\n",
            "_________________________________________________________________\n"
          ]
        }
      ]
    },
    {
      "cell_type": "code",
      "source": [
        "def objective_entropy(f,epsilon):\n",
        "  L = n*tf.math.reduce_sum(f*a)\n",
        "  u = tf.math.exp(f/epsilon)\n",
        "  P =  np.exp(-C/epsilon)\n",
        "  for i in range(n):\n",
        "    axes = [1,]*n\n",
        "    axes[i] = size\n",
        "    P *= tf.reshape(u,axes)\n",
        "  L -= epsilon*tf.reduce_sum(P)\n",
        "  return L"
      ],
      "metadata": {
        "id": "xkB9KO2oXWzO"
      },
      "execution_count": 185,
      "outputs": []
    },
    {
      "cell_type": "code",
      "source": [
        "def objective_dual(f,ld):\n",
        "  L = n*tf.math.reduce_sum(f*a)\n",
        "  P = C\n",
        "  for i in range(n):\n",
        "    axes = [1,]*n\n",
        "    axes[i] = size\n",
        "    P -= tf.reshape(u,axes)\n",
        "  L -= ld*tf.reduce_sum(P)\n",
        "  return L"
      ],
      "metadata": {
        "id": "SI5zpGy3vImj"
      },
      "execution_count": 186,
      "outputs": []
    },
    {
      "cell_type": "code",
      "source": [
        "def plot_coupling(f):\n",
        "  P =  np.exp(-C/epsilon)\n",
        "  u = np.exp(f.numpy().T/epsilon)\n",
        "  for i in range(n):\n",
        "    axes = [1,]*n\n",
        "    axes[i] = size\n",
        "    axes = tuple(axes)\n",
        "    P *= np.reshape(u,axes)\n",
        "\n",
        "  #Pm = np.sum(P,axis = (2))\n",
        "  plot_matrix(P,x,x)"
      ],
      "metadata": {
        "id": "hnFjUH0re95t"
      },
      "execution_count": 187,
      "outputs": []
    },
    {
      "cell_type": "code",
      "source": [
        "epsilon = 1e-3\n",
        "ld = 1e-2"
      ],
      "metadata": {
        "id": "EfiSs0L2Zf78"
      },
      "execution_count": 188,
      "outputs": []
    },
    {
      "cell_type": "code",
      "source": [
        "### Hyperparameter setting and optimization ###\n",
        "\n",
        "# Optimization parameters:\n",
        "num_training_iterations = 1200\n",
        "learning_rate = 1e-4\n",
        "lr_schedule = tf.keras.optimizers.schedules.ExponentialDecay(\n",
        "    learning_rate,\n",
        "    decay_steps=2500,\n",
        "    decay_rate=0.65,\n",
        "    staircase=True)\n"
      ],
      "metadata": {
        "id": "1Zf2FIsxlwML"
      },
      "execution_count": 189,
      "outputs": []
    },
    {
      "cell_type": "code",
      "source": [
        "from IPython.display import clear_output"
      ],
      "metadata": {
        "id": "9lxSOx_AfWPE"
      },
      "execution_count": 190,
      "outputs": []
    },
    {
      "cell_type": "code",
      "source": [
        "model = build_model(input_shape,n)\n",
        "\n",
        "optimizer = tf.keras.optimizers.Adamax(learning_rate = lr_schedule)\n",
        "\n",
        "@tf.function\n",
        "def train_step(a):\n",
        "  with tf.GradientTape() as tape:\n",
        "    f = model(a)\n",
        "    loss = -objective_entropy(f,epsilon)\n",
        "\n",
        "  grads = tape.gradient(loss, model.trainable_variables)\n",
        "\n",
        "  optimizer.apply_gradients(zip(grads, model.trainable_variables))\n",
        "  return loss,f\n",
        "\n",
        "history = []\n",
        "plotter = mdl.util.PeriodicPlotter(sec=2, xlabel='Iterations', ylabel='Loss')\n",
        "if hasattr(tqdm, '_instances'): tqdm._instances.clear() # clear if it exists\n",
        "\n",
        "for iter in tqdm(range(num_training_iterations)):\n",
        "\n",
        "  # Grab a batch and propagate it through the network\n",
        "  loss,f = train_step(a.reshape(1,size))\n",
        "\n",
        "  if (iter%(num_training_iterations//120) == 0):\n",
        "    clear_output(wait=True)\n",
        "    plot_coupling(f)\n",
        "    \n",
        "  # Update the progress bar\n",
        "  #history.append(loss.numpy().mean())\n",
        "  #plotter.plot(history)"
      ],
      "metadata": {
        "colab": {
          "base_uri": "https://localhost:8080/",
          "height": 498
        },
        "id": "tpPdDGkFkYHj",
        "outputId": "d43dc868-e900-4e8d-e582-d75efe2c3689"
      },
      "execution_count": 200,
      "outputs": [
        {
          "output_type": "display_data",
          "data": {
            "text/plain": [
              "<Figure size 432x288 with 1 Axes>"
            ],
            "image/png": "[encoded data removed]"
          },
          "metadata": {
            "needs_background": "light"
          }
        },
        {
          "output_type": "stream",
          "name": "stderr",
          "text": [
            "100%|██████████| 1200/1200 [00:36<00:00, 32.47it/s]\n"
          ]
        }
      ]
    },
    {
      "cell_type": "code",
      "source": [
        "f = model(a.reshape(1,size))\n",
        "# f = list(map(float,f.split()))\n",
        "print()\n",
        "x = np.array([[i,] for i in range(size)])\n",
        "print(objective_entropy(f,epsilon))\n",
        "#Plot distribution\n",
        "plt.figure(figsize=(10, 5))\n",
        "plt.plot(x, f.numpy().T, 'b',label = 'Potential')\n",
        "plt.legend()\n",
        "plt.show()"
      ],
      "metadata": {
        "colab": {
          "base_uri": "https://localhost:8080/",
          "height": 356
        },
        "id": "-rcZalgmrfGd",
        "outputId": "6b8ce609-86b5-4c41-f03f-bf87a9c1c781"
      },
      "execution_count": 201,
      "outputs": [
        {
          "output_type": "stream",
          "name": "stdout",
          "text": [
            "\n",
            "tf.Tensor(0.011130902, shape=(), dtype=float32)\n"
          ]
        },
        {
          "output_type": "display_data",
          "data": {
            "text/plain": [
              "<Figure size 720x360 with 1 Axes>"
            ],
            "image/png": "[encoded data removed]"
          },
          "metadata": {
            "needs_background": "light"
          }
        }
      ]
    },
    {
      "cell_type": "code",
      "source": [
        "P =  np.exp(-C/epsilon)\n",
        "u = np.exp(f.numpy().T/epsilon)\n",
        "for i in range(n):\n",
        "  axes = [1,]*n\n",
        "  axes[i] = size\n",
        "  axes = tuple(axes)\n",
        "  P *= np.reshape(u,axes)\n",
        "\n",
        "#Pm = np.sum(P,axis = (2))\n",
        "plt.figure(figsize=(7, 7))\n",
        "ot.plot.plot1D_mat(a, a, P, 'Coupling Projection')"
      ],
      "metadata": {
        "colab": {
          "base_uri": "https://localhost:8080/",
          "height": 513
        },
        "id": "532LbPS7q49j",
        "outputId": "9f000b53-2e6e-43ff-aae7-7faebb6b756b"
      },
      "execution_count": 202,
      "outputs": [
        {
          "output_type": "display_data",
          "data": {
            "text/plain": [
              "<Figure size 504x504 with 3 Axes>"
            ],
            "image/png": "[encoded data removed]"
          },
          "metadata": {
            "needs_background": "light"
          }
        }
      ]
    }
  ]
}