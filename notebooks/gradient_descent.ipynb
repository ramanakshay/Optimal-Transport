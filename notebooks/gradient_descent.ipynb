{
  "nbformat": 4,
  "nbformat_minor": 0,
  "metadata": {
    "colab": {
      "provenance": [],
      "collapsed_sections": [
        "khma6TN_k0-A"
      ],
      "authorship_tag": "ABX9TyOVot+OzzA5faXN+i9Rk74o",
      "include_colab_link": true
    },
    "kernelspec": {
      "name": "python3",
      "display_name": "Python 3"
    },
    "language_info": {
      "name": "python"
    },
    "accelerator": "GPU",
    "gpuClass": "standard"
  },
  "cells": [
    {
      "cell_type": "markdown",
      "metadata": {
        "id": "view-in-github",
        "colab_type": "text"
      },
      "source": [
        "<a href=\"https://colab.research.google.com/github/ramanakshay/Optimal-Transport/blob/main/notebooks/gradient_descent.ipynb\" target=\"_parent\"><img src=\"https://colab.research.google.com/assets/colab-badge.svg\" alt=\"Open In Colab\"/></a>"
      ]
    },
    {
      "cell_type": "markdown",
      "source": [
        "# Solving OT using Neural Networks"
      ],
      "metadata": {
        "id": "G4JPzPTxkp1m"
      }
    },
    {
      "cell_type": "markdown",
      "source": [
        "## Import Libraries"
      ],
      "metadata": {
        "id": "khma6TN_k0-A"
      }
    },
    {
      "cell_type": "code",
      "source": [
        "# Download and import the MIT 6.S191 package\n",
        "!pip install mitdeeplearning\n",
        "import mitdeeplearning as mdl\n",
        "\n",
        "# Import all remaining packages\n",
        "import numpy as np\n",
        "import os\n",
        "import time\n",
        "import functools\n",
        "from IPython import display as ipythondisplay\n",
        "from tqdm import tqdm\n",
        "!apt-get install abcmidi timidity > /dev/null 2>&1"
      ],
      "metadata": {
        "colab": {
          "base_uri": "https://localhost:8080/"
        },
        "id": "WyRW4t62l0UP",
        "outputId": "6f2f96de-4dd8-4d47-db4a-8f3a2fe527f7"
      },
      "execution_count": 1,
      "outputs": [
        {
          "output_type": "stream",
          "name": "stdout",
          "text": [
            "Looking in indexes: https://pypi.org/simple, https://us-python.pkg.dev/colab-wheels/public/simple/\n",
            "Requirement already satisfied: mitdeeplearning in /usr/local/lib/python3.7/dist-packages (0.2.0)\n",
            "Requirement already satisfied: gym in /usr/local/lib/python3.7/dist-packages (from mitdeeplearning) (0.25.2)\n",
            "Requirement already satisfied: regex in /usr/local/lib/python3.7/dist-packages (from mitdeeplearning) (2022.6.2)\n",
            "Requirement already satisfied: numpy in /usr/local/lib/python3.7/dist-packages (from mitdeeplearning) (1.21.6)\n",
            "Requirement already satisfied: tqdm in /usr/local/lib/python3.7/dist-packages (from mitdeeplearning) (4.64.0)\n",
            "Requirement already satisfied: gym-notices>=0.0.4 in /usr/local/lib/python3.7/dist-packages (from gym->mitdeeplearning) (0.0.8)\n",
            "Requirement already satisfied: importlib-metadata>=4.8.0 in /usr/local/lib/python3.7/dist-packages (from gym->mitdeeplearning) (4.12.0)\n",
            "Requirement already satisfied: cloudpickle>=1.2.0 in /usr/local/lib/python3.7/dist-packages (from gym->mitdeeplearning) (1.5.0)\n",
            "Requirement already satisfied: typing-extensions>=3.6.4 in /usr/local/lib/python3.7/dist-packages (from importlib-metadata>=4.8.0->gym->mitdeeplearning) (4.1.1)\n",
            "Requirement already satisfied: zipp>=0.5 in /usr/local/lib/python3.7/dist-packages (from importlib-metadata>=4.8.0->gym->mitdeeplearning) (3.8.1)\n"
          ]
        }
      ]
    },
    {
      "cell_type": "code",
      "source": [
        "!pip install pot"
      ],
      "metadata": {
        "colab": {
          "base_uri": "https://localhost:8080/"
        },
        "id": "Yg4_UNBxkWSE",
        "outputId": "c6ec0333-eda9-4f89-ca4b-9455e00c49f9"
      },
      "execution_count": 2,
      "outputs": [
        {
          "output_type": "stream",
          "name": "stdout",
          "text": [
            "Looking in indexes: https://pypi.org/simple, https://us-python.pkg.dev/colab-wheels/public/simple/\n",
            "Requirement already satisfied: pot in /usr/local/lib/python3.7/dist-packages (0.8.2)\n",
            "Requirement already satisfied: scipy>=1.0 in /usr/local/lib/python3.7/dist-packages (from pot) (1.7.3)\n",
            "Requirement already satisfied: numpy>=1.16 in /usr/local/lib/python3.7/dist-packages (from pot) (1.21.6)\n"
          ]
        }
      ]
    },
    {
      "cell_type": "code",
      "source": [
        "user = 'ramanakshay'\n",
        "repo = 'Optimal-Transport'\n",
        "\n",
        "url = f\"git+https://github.com/{user}/{repo}.git\"\n",
        "!pip install --upgrade {url}"
      ],
      "metadata": {
        "colab": {
          "base_uri": "https://localhost:8080/"
        },
        "id": "NShVdFxHj_qf",
        "outputId": "a7c90e2a-10e0-4e20-b73e-a2eb0036d9ca"
      },
      "execution_count": 3,
      "outputs": [
        {
          "output_type": "stream",
          "name": "stdout",
          "text": [
            "Looking in indexes: https://pypi.org/simple, https://us-python.pkg.dev/colab-wheels/public/simple/\n",
            "Collecting git+https://github.com/ramanakshay/Optimal-Transport.git\n",
            "  Cloning https://github.com/ramanakshay/Optimal-Transport.git to /tmp/pip-req-build-18s6xia6\n",
            "  Running command git clone -q https://github.com/ramanakshay/Optimal-Transport.git /tmp/pip-req-build-18s6xia6\n",
            "Requirement already satisfied: numpy in /usr/local/lib/python3.7/dist-packages (from utils==0.1.0) (1.21.6)\n",
            "Requirement already satisfied: matplotlib in /usr/local/lib/python3.7/dist-packages (from utils==0.1.0) (3.2.2)\n",
            "Requirement already satisfied: kiwisolver>=1.0.1 in /usr/local/lib/python3.7/dist-packages (from matplotlib->utils==0.1.0) (1.4.4)\n",
            "Requirement already satisfied: cycler>=0.10 in /usr/local/lib/python3.7/dist-packages (from matplotlib->utils==0.1.0) (0.11.0)\n",
            "Requirement already satisfied: python-dateutil>=2.1 in /usr/local/lib/python3.7/dist-packages (from matplotlib->utils==0.1.0) (2.8.2)\n",
            "Requirement already satisfied: pyparsing!=2.0.4,!=2.1.2,!=2.1.6,>=2.0.1 in /usr/local/lib/python3.7/dist-packages (from matplotlib->utils==0.1.0) (3.0.9)\n",
            "Requirement already satisfied: typing-extensions in /usr/local/lib/python3.7/dist-packages (from kiwisolver>=1.0.1->matplotlib->utils==0.1.0) (4.1.1)\n",
            "Requirement already satisfied: six>=1.5 in /usr/local/lib/python3.7/dist-packages (from python-dateutil>=2.1->matplotlib->utils==0.1.0) (1.15.0)\n"
          ]
        }
      ]
    },
    {
      "cell_type": "code",
      "execution_count": 4,
      "metadata": {
        "id": "cGmLjgIOjbYe"
      },
      "outputs": [],
      "source": [
        "import tensorflow as tf\n",
        "\n",
        "import ot  # ot\n",
        "import ot.plot\n",
        "\n",
        "import numpy as np\n",
        "import matplotlib.pyplot as plt"
      ]
    },
    {
      "cell_type": "code",
      "source": [
        "from utils.plot import plot_matrix,plot_2d_map\n",
        "from utils.dist import find_cost_tensor\n",
        "from utils.data import gaussian_mix,dispersion_density,lorentzian,uniform_density"
      ],
      "metadata": {
        "id": "OWkBxiMPkDO2"
      },
      "execution_count": 5,
      "outputs": []
    },
    {
      "cell_type": "code",
      "source": [
        "from IPython.display import clear_output"
      ],
      "metadata": {
        "id": "9lxSOx_AfWPE"
      },
      "execution_count": 6,
      "outputs": []
    },
    {
      "cell_type": "markdown",
      "source": [
        "## Marginal"
      ],
      "metadata": {
        "id": "f8HqXCa8k76b"
      }
    },
    {
      "cell_type": "code",
      "source": [
        "def dispersion_density(size,R):\n",
        "  assert R <= 58*size/64  and R >= 0\n",
        "  return gaussian_mix(size,[size//2 + R/2,size//2 - R/2],[size/32,size/32],[1,1.5])"
      ],
      "metadata": {
        "id": "bmucTmfN0xxy"
      },
      "execution_count": 7,
      "outputs": []
    },
    {
      "cell_type": "code",
      "source": [
        "n = 5\n",
        "size = 50\n",
        "\n",
        "a = gaussian_mix(size,[size/2],[size/8],[1])\n",
        "#a = dispersion_density(size,60)\n",
        "input_shape = a.shape\n",
        "\n",
        "print('Input Shape:',input_shape)\n",
        "\n",
        "x = np.array([[i,] for i in range(size)]) # defining the space\n",
        "X = np.tile(x.T,(n,1))"
      ],
      "metadata": {
        "id": "0a_9FZEXkJvB",
        "colab": {
          "base_uri": "https://localhost:8080/"
        },
        "outputId": "47af535b-0a48-4d71-c3e4-139b01865004"
      },
      "execution_count": 8,
      "outputs": [
        {
          "output_type": "stream",
          "name": "stdout",
          "text": [
            "Input Shape: (50,)\n"
          ]
        }
      ]
    },
    {
      "cell_type": "code",
      "source": [
        "#Plot distribution\n",
        "plt.figure(figsize=(10, 5))\n",
        "plt.plot(x, a, 'b',label = 'Gaussian')\n",
        "plt.legend()\n",
        "plt.show()"
      ],
      "metadata": {
        "colab": {
          "base_uri": "https://localhost:8080/",
          "height": 320
        },
        "id": "m8Ot5arNlRxn",
        "outputId": "4a4ad4f0-43ed-4c10-80a5-fa5f378bdb7f"
      },
      "execution_count": 9,
      "outputs": [
        {
          "output_type": "display_data",
          "data": {
            "text/plain": [
              "<Figure size 720x360 with 1 Axes>"
            ],
            "image/png": "[encoded data removed]"
          },
          "metadata": {
            "needs_background": "light"
          }
        }
      ]
    },
    {
      "cell_type": "markdown",
      "source": [
        "## Cost Tensor"
      ],
      "metadata": {
        "id": "yduvHgQ0lk3V"
      }
    },
    {
      "cell_type": "code",
      "source": [
        "C = find_cost_tensor(X)\n",
        "print('Cost Tensor:',C.shape)\n",
        "plot_matrix(C,x,x)\n",
        "print(C.max())"
      ],
      "metadata": {
        "colab": {
          "base_uri": "https://localhost:8080/",
          "height": 832
        },
        "id": "uC8xb5aXle7z",
        "outputId": "cf0f8980-ca87-45c8-95fe-1b6dee01d01b"
      },
      "execution_count": 10,
      "outputs": [
        {
          "output_type": "stream",
          "name": "stdout",
          "text": [
            "Cost Tensor: (50, 50, 50, 50, 50)\n"
          ]
        },
        {
          "output_type": "error",
          "ename": "ValueError",
          "evalue": "ignored",
          "traceback": [
            "\u001b[0;31m---------------------------------------------------------------------------\u001b[0m",
            "\u001b[0;31mValueError\u001b[0m                                Traceback (most recent call last)",
            "\u001b[0;32m<ipython-input-10-f758aa1854c2>\u001b[0m in \u001b[0;36m<module>\u001b[0;34m\u001b[0m\n\u001b[1;32m      1\u001b[0m \u001b[0mC\u001b[0m \u001b[0;34m=\u001b[0m \u001b[0mfind_cost_tensor\u001b[0m\u001b[0;34m(\u001b[0m\u001b[0mX\u001b[0m\u001b[0;34m)\u001b[0m\u001b[0;34m\u001b[0m\u001b[0;34m\u001b[0m\u001b[0m\n\u001b[1;32m      2\u001b[0m \u001b[0mprint\u001b[0m\u001b[0;34m(\u001b[0m\u001b[0;34m'Cost Tensor:'\u001b[0m\u001b[0;34m,\u001b[0m\u001b[0mC\u001b[0m\u001b[0;34m.\u001b[0m\u001b[0mshape\u001b[0m\u001b[0;34m)\u001b[0m\u001b[0;34m\u001b[0m\u001b[0;34m\u001b[0m\u001b[0m\n\u001b[0;32m----> 3\u001b[0;31m \u001b[0mplot_matrix\u001b[0m\u001b[0;34m(\u001b[0m\u001b[0mC\u001b[0m\u001b[0;34m,\u001b[0m\u001b[0mx\u001b[0m\u001b[0;34m,\u001b[0m\u001b[0mx\u001b[0m\u001b[0;34m)\u001b[0m\u001b[0;34m\u001b[0m\u001b[0;34m\u001b[0m\u001b[0m\n\u001b[0m\u001b[1;32m      4\u001b[0m \u001b[0mprint\u001b[0m\u001b[0;34m(\u001b[0m\u001b[0mC\u001b[0m\u001b[0;34m.\u001b[0m\u001b[0mmax\u001b[0m\u001b[0;34m(\u001b[0m\u001b[0;34m)\u001b[0m\u001b[0;34m)\u001b[0m\u001b[0;34m\u001b[0m\u001b[0;34m\u001b[0m\u001b[0m\n",
            "\u001b[0;32m/usr/local/lib/python3.7/dist-packages/utils/plot.py\u001b[0m in \u001b[0;36mplot_matrix\u001b[0;34m(M, rlabel, clabel, cmap, textcolor, title, size)\u001b[0m\n\u001b[1;32m      9\u001b[0m   \u001b[0max\u001b[0m \u001b[0;34m=\u001b[0m \u001b[0mfig\u001b[0m\u001b[0;34m.\u001b[0m\u001b[0madd_axes\u001b[0m\u001b[0;34m(\u001b[0m\u001b[0;34m[\u001b[0m\u001b[0;36m0.1\u001b[0m\u001b[0;34m,\u001b[0m\u001b[0;36m0.1\u001b[0m\u001b[0;34m,\u001b[0m\u001b[0;34m]\u001b[0m\u001b[0;34m+\u001b[0m\u001b[0mlist\u001b[0m\u001b[0;34m(\u001b[0m\u001b[0msize\u001b[0m\u001b[0;34m)\u001b[0m\u001b[0;34m)\u001b[0m \u001b[0;31m# main axes\u001b[0m\u001b[0;34m\u001b[0m\u001b[0;34m\u001b[0m\u001b[0m\n\u001b[1;32m     10\u001b[0m \u001b[0;34m\u001b[0m\u001b[0m\n\u001b[0;32m---> 11\u001b[0;31m   \u001b[0mr\u001b[0m\u001b[0;34m,\u001b[0m\u001b[0mc\u001b[0m \u001b[0;34m=\u001b[0m \u001b[0mM\u001b[0m\u001b[0;34m.\u001b[0m\u001b[0mshape\u001b[0m\u001b[0;34m\u001b[0m\u001b[0;34m\u001b[0m\u001b[0m\n\u001b[0m\u001b[1;32m     12\u001b[0m \u001b[0;34m\u001b[0m\u001b[0m\n\u001b[1;32m     13\u001b[0m   \u001b[0;32mif\u001b[0m \u001b[0;34m(\u001b[0m\u001b[0mr\u001b[0m \u001b[0;34m<=\u001b[0m \u001b[0;36m10\u001b[0m \u001b[0;32mor\u001b[0m \u001b[0mc\u001b[0m \u001b[0;34m<=\u001b[0m \u001b[0;36m10\u001b[0m\u001b[0;34m)\u001b[0m\u001b[0;34m:\u001b[0m\u001b[0;34m\u001b[0m\u001b[0;34m\u001b[0m\u001b[0m\n",
            "\u001b[0;31mValueError\u001b[0m: too many values to unpack (expected 2)"
          ]
        },
        {
          "output_type": "display_data",
          "data": {
            "text/plain": [
              "<Figure size 432x288 with 1 Axes>"
            ],
            "image/png": "[encoded data removed]"
          },
          "metadata": {
            "needs_background": "light"
          }
        }
      ]
    },
    {
      "cell_type": "markdown",
      "source": [
        "## Building the Model"
      ],
      "metadata": {
        "id": "4A9PO3ugJ_T5"
      }
    },
    {
      "cell_type": "code",
      "source": [
        "from tensorflow.keras.applications.resnet50 import ResNet50\n",
        "from tensorflow.keras.layers import Input, GlobalAveragePooling2D, Dropout, Dense, Flatten,LocallyConnected1D,Conv1D\n",
        "\n",
        "initializer = tf.keras.initializers.Zeros()"
      ],
      "metadata": {
        "id": "7167UTvEuIYe"
      },
      "execution_count": 11,
      "outputs": []
    },
    {
      "cell_type": "code",
      "source": [
        "def build_model(input_shape,marginals):\n",
        "  model = tf.keras.Sequential([\n",
        "    #Dense(i, input_shape=input_shape, use_bias=False,activation = 'sigmoid',kernel_initializer=tf.keras.initializers.Zeros()), \n",
        "    Dense(200,input_shape = input_shape,activation='elu',kernel_initializer= initializer),\n",
        "    Dense(size,input_shape = input_shape,kernel_initializer=initializer)\n",
        "])\n",
        "  return model"
      ],
      "metadata": {
        "id": "bDqisxxylv0s"
      },
      "execution_count": 12,
      "outputs": []
    },
    {
      "cell_type": "code",
      "source": [
        "model = build_model(input_shape,n)"
      ],
      "metadata": {
        "id": "hPWtd_7Alv7g"
      },
      "execution_count": 13,
      "outputs": []
    },
    {
      "cell_type": "code",
      "source": [
        "model.summary()"
      ],
      "metadata": {
        "colab": {
          "base_uri": "https://localhost:8080/"
        },
        "id": "AD9TXXVzlv-X",
        "outputId": "188c35d4-0525-455b-b037-fae692cb65fb"
      },
      "execution_count": 14,
      "outputs": [
        {
          "output_type": "stream",
          "name": "stdout",
          "text": [
            "Model: \"sequential\"\n",
            "_________________________________________________________________\n",
            " Layer (type)                Output Shape              Param #   \n",
            "=================================================================\n",
            " dense (Dense)               (None, 200)               10200     \n",
            "                                                                 \n",
            " dense_1 (Dense)             (None, 50)                10050     \n",
            "                                                                 \n",
            "=================================================================\n",
            "Total params: 20,250\n",
            "Trainable params: 20,250\n",
            "Non-trainable params: 0\n",
            "_________________________________________________________________\n"
          ]
        }
      ]
    },
    {
      "cell_type": "markdown",
      "source": [
        "##Objective Function (Loss)"
      ],
      "metadata": {
        "id": "zjr3vnxqKFyI"
      }
    },
    {
      "cell_type": "code",
      "source": [
        "def objective_entropy(f,epsilon,ld):\n",
        "  L = n*tf.math.reduce_sum(f*a)\n",
        "  u = tf.math.exp(f/epsilon)\n",
        "  P =  np.exp(-C/epsilon)\n",
        "  for i in range(n):\n",
        "    axes = [1,]*n\n",
        "    axes[i] = size\n",
        "    P *= tf.reshape(u,axes)\n",
        "  L -= epsilon*tf.reduce_sum(P)\n",
        "  L -= ld*tf.reduce_sum(tf.abs(tf.reduce_sum(P,1) - a))\n",
        "  return L"
      ],
      "metadata": {
        "id": "xkB9KO2oXWzO"
      },
      "execution_count": 15,
      "outputs": []
    },
    {
      "cell_type": "code",
      "source": [
        "def objective_dual(f,ld):\n",
        "  L = n*tf.math.reduce_sum(f*a)\n",
        "  P = C\n",
        "  for i in range(n):\n",
        "    axes = [1,]*n\n",
        "    axes[i] = size\n",
        "    P -= tf.reshape(u,axes)\n",
        "  L -= ld*tf.reduce_sum(P)\n",
        "  return L"
      ],
      "metadata": {
        "id": "SI5zpGy3vImj"
      },
      "execution_count": 16,
      "outputs": []
    },
    {
      "cell_type": "code",
      "source": [
        "def plot_coupling(f):\n",
        "  P =  np.exp(-C/epsilon)\n",
        "  u = np.exp(f.numpy().T/epsilon)\n",
        "  for i in range(n):\n",
        "    axes = [1,]*n\n",
        "    axes[i] = size\n",
        "    axes = tuple(axes)\n",
        "    P *= np.reshape(u,axes)\n",
        "\n",
        "  Pm = np.sum(P,axis = (2,3))\n",
        "  plot_matrix(Pm,x,x)"
      ],
      "metadata": {
        "id": "hnFjUH0re95t"
      },
      "execution_count": 17,
      "outputs": []
    },
    {
      "cell_type": "code",
      "source": [
        "def plot_potential(f):\n",
        "  plt.figure(figsize=(10, 5))\n",
        "  plt.plot(x, f.numpy().T, 'b',label = 'Potential')\n",
        "  plt.legend()\n",
        "  plt.show()"
      ],
      "metadata": {
        "id": "_5JM4oWGZGMe"
      },
      "execution_count": 18,
      "outputs": []
    },
    {
      "cell_type": "markdown",
      "source": [
        "## Hyper-parameters"
      ],
      "metadata": {
        "id": "B_GCZAoKKNAv"
      }
    },
    {
      "cell_type": "code",
      "source": [
        "epsilon = 1e-2\n",
        "ld = 0"
      ],
      "metadata": {
        "id": "EfiSs0L2Zf78"
      },
      "execution_count": 19,
      "outputs": []
    },
    {
      "cell_type": "code",
      "source": [
        "### Hyperparameter setting and optimization ###\n",
        "\n",
        "# Optimization parameters:\n",
        "num_training_iterations = 10000\n",
        "learning_rate = 1e-2\n",
        "lr_schedule = tf.keras.optimizers.schedules.ExponentialDecay(\n",
        "    learning_rate,\n",
        "    decay_steps=2200,\n",
        "    decay_rate=0.65,\n",
        "    staircase=True)\n"
      ],
      "metadata": {
        "id": "1Zf2FIsxlwML"
      },
      "execution_count": 20,
      "outputs": []
    },
    {
      "cell_type": "markdown",
      "source": [
        "## Training"
      ],
      "metadata": {
        "id": "7xtirDVJKVYH"
      }
    },
    {
      "cell_type": "code",
      "source": [
        "model = build_model(input_shape,n)\n",
        "\n",
        "optimizer = tf.keras.optimizers.Adam(learning_rate = lr_schedule)\n",
        "\n",
        "@tf.function\n",
        "def train_step(a):\n",
        "  with tf.GradientTape() as tape:\n",
        "    f = model(a)\n",
        "    loss = -objective_entropy(f,epsilon,ld)\n",
        "\n",
        "  grads = tape.gradient(loss, model.trainable_variables)\n",
        "\n",
        "  optimizer.apply_gradients(zip(grads, model.trainable_variables))\n",
        "  return loss,f\n",
        "\n",
        "history = []\n",
        "plotter = mdl.util.PeriodicPlotter(sec=2, xlabel='Iterations', ylabel='Loss')\n",
        "if hasattr(tqdm, '_instances'): tqdm._instances.clear() # clear if it exists\n",
        "\n",
        "for iter in tqdm(range(num_training_iterations)):\n",
        "\n",
        "  # Grab a batch and propagate it through the network\n",
        "  loss,f = train_step(a.reshape(1,size))\n",
        "\n",
        "  if (iter%(num_training_iterations//120) == 0):\n",
        "    clear_output(wait=True)\n",
        "    plot_coupling(f)\n",
        "    plot_potential(f)\n",
        "    \n",
        "  # Update the progress bar\n",
        "  #history.append(loss.numpy().mean())\n",
        "  #plotter.plot(history)"
      ],
      "metadata": {
        "colab": {
          "base_uri": "https://localhost:8080/"
        },
        "id": "tpPdDGkFkYHj",
        "outputId": "2d63fb49-d482-4143-d08d-d8bb20fa10db"
      },
      "execution_count": null,
      "outputs": [
        {
          "output_type": "stream",
          "name": "stderr",
          "text": [
            "\r  0%|          | 0/10000 [00:00<?, ?it/s]"
          ]
        }
      ]
    },
    {
      "cell_type": "markdown",
      "source": [
        "## Potential"
      ],
      "metadata": {
        "id": "uBq0Md8WLMnR"
      }
    },
    {
      "cell_type": "code",
      "source": [
        "f = model(a.reshape(1,size))\n",
        "# f = list(map(float,f.split()))\n",
        "print()\n",
        "x = np.array([[i,] for i in range(size)])\n",
        "#Plot distribution\n",
        "plt.figure(figsize=(10, 5))\n",
        "plt.plot(x, f.numpy().T, 'b',label = 'Potential')\n",
        "plt.legend()\n",
        "plt.show()"
      ],
      "metadata": {
        "colab": {
          "base_uri": "https://localhost:8080/",
          "height": 338
        },
        "id": "-rcZalgmrfGd",
        "outputId": "5bebe115-527e-40e3-d742-885ed3a1c75a"
      },
      "execution_count": 218,
      "outputs": [
        {
          "output_type": "stream",
          "name": "stdout",
          "text": [
            "\n"
          ]
        },
        {
          "output_type": "display_data",
          "data": {
            "text/plain": [
              "<Figure size 720x360 with 1 Axes>"
            ],
            "image/png": "[encoded data removed]"
          },
          "metadata": {
            "needs_background": "light"
          }
        }
      ]
    },
    {
      "cell_type": "markdown",
      "source": [
        "## Total Cost"
      ],
      "metadata": {
        "id": "gvyzt9pkLO04"
      }
    },
    {
      "cell_type": "code",
      "source": [],
      "metadata": {
        "id": "7bdkms8tKuGY",
        "outputId": "7e4d3753-8414-4391-8b79-acf72701d460",
        "colab": {
          "base_uri": "https://localhost:8080/"
        }
      },
      "execution_count": 178,
      "outputs": [
        {
          "output_type": "stream",
          "name": "stdout",
          "text": [
            "OT Cost: 0.07929353\n"
          ]
        }
      ]
    },
    {
      "cell_type": "markdown",
      "source": [
        "## Optimal Coupling"
      ],
      "metadata": {
        "id": "6ymvKZagLQ2F"
      }
    },
    {
      "cell_type": "code",
      "source": [
        "P =  np.exp(-C/epsilon)\n",
        "u = np.exp(f.numpy().T/epsilon)\n",
        "for i in range(n):\n",
        "  axes = [1,]*n\n",
        "  axes[i] = size\n",
        "  axes = tuple(axes)\n",
        "  P *= np.reshape(u,axes)\n",
        "\n",
        "print('OT Cost:', np.sum(C*P))\n",
        "Pm = np.sum(P,axis = (2))\n",
        "plt.figure(figsize=(7, 7))\n",
        "ot.plot.plot1D_mat(a, a, Pm, 'Coupling')"
      ],
      "metadata": {
        "colab": {
          "base_uri": "https://localhost:8080/",
          "height": 531
        },
        "id": "532LbPS7q49j",
        "outputId": "297ce870-1be1-4c3d-fd47-8520463f1730"
      },
      "execution_count": 190,
      "outputs": [
        {
          "output_type": "stream",
          "name": "stdout",
          "text": [
            "OT Cost: 0.188469760503031\n"
          ]
        },
        {
          "output_type": "display_data",
          "data": {
            "text/plain": [
              "<Figure size 504x504 with 3 Axes>"
            ],
            "image/png": "[encoded data removed]"
          },
          "metadata": {
            "needs_background": "light"
          }
        }
      ]
    },
    {
      "cell_type": "code",
      "source": [
        "Pv = np.sum(P,axis = (1,2))\n",
        "plt.figure(figsize=(10, 5))\n",
        "plt.plot(x, a, 'b', label='Exact')\n",
        "plt.plot(x, Pv, 'g', label='Approximate')\n",
        "plt.legend()\n",
        "plt.show()"
      ],
      "metadata": {
        "id": "Pj-4wXbzn5AI",
        "outputId": "c0d6dab8-db2f-4a7e-9c21-54e2bb2e72f2",
        "colab": {
          "base_uri": "https://localhost:8080/",
          "height": 320
        }
      },
      "execution_count": 188,
      "outputs": [
        {
          "output_type": "display_data",
          "data": {
            "text/plain": [
              "<Figure size 720x360 with 1 Axes>"
            ],
            "image/png": "[encoded data removed]"
          },
          "metadata": {
            "needs_background": "light"
          }
        }
      ]
    }
  ]
}