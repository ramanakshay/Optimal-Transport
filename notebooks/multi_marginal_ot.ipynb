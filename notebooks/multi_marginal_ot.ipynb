{
  "nbformat": 4,
  "nbformat_minor": 0,
  "metadata": {
    "colab": {
      "name": "multi_marginal_ot.ipynb",
      "provenance": [],
      "collapsed_sections": [],
      "authorship_tag": "ABX9TyMWQM6XDi68WLAYsEvPRJzH",
      "include_colab_link": true
    },
    "kernelspec": {
      "name": "python3",
      "display_name": "Python 3"
    },
    "language_info": {
      "name": "python"
    }
  },
  "cells": [
    {
      "cell_type": "markdown",
      "metadata": {
        "id": "view-in-github",
        "colab_type": "text"
      },
      "source": [
        "<a href=\"https://colab.research.google.com/github/ramanakshay/Optimal-Transport/blob/main/notebooks/multi_marginal_ot.ipynb\" target=\"_parent\"><img src=\"https://colab.research.google.com/assets/colab-badge.svg\" alt=\"Open In Colab\"/></a>"
      ]
    },
    {
      "cell_type": "markdown",
      "source": [
        "# Multi-Marginal Optimal Transport"
      ],
      "metadata": {
        "id": "z2w0fVYN4F8e"
      }
    },
    {
      "cell_type": "markdown",
      "source": [
        "## Import Libraries"
      ],
      "metadata": {
        "id": "9GZQtuARCSWw"
      }
    },
    {
      "cell_type": "code",
      "execution_count": 1,
      "metadata": {
        "colab": {
          "base_uri": "https://localhost:8080/"
        },
        "id": "2LKuJz0O18Ii",
        "outputId": "bf5128f3-d24b-4f32-f6c7-792d83304aed"
      },
      "outputs": [
        {
          "output_type": "stream",
          "name": "stdout",
          "text": [
            "Looking in indexes: https://pypi.org/simple, https://us-python.pkg.dev/colab-wheels/public/simple/\n",
            "Collecting pot\n",
            "  Downloading POT-0.8.2-cp37-cp37m-manylinux_2_12_x86_64.manylinux2010_x86_64.whl (664 kB)\n",
            "\u001b[K     |████████████████████████████████| 664 kB 5.2 MB/s \n",
            "\u001b[?25hRequirement already satisfied: numpy>=1.16 in /usr/local/lib/python3.7/dist-packages (from pot) (1.21.6)\n",
            "Requirement already satisfied: scipy>=1.0 in /usr/local/lib/python3.7/dist-packages (from pot) (1.7.3)\n",
            "Installing collected packages: pot\n",
            "Successfully installed pot-0.8.2\n"
          ]
        }
      ],
      "source": [
        "!pip install pot  # Pip Installs Packages"
      ]
    },
    {
      "cell_type": "code",
      "source": [
        "user = 'ramanakshay'\n",
        "repo = 'Optimal-Transport'\n",
        "\n",
        "url = f\"git+https://github.com/{user}/{repo}.git\"\n",
        "!pip install --upgrade {url}"
      ],
      "metadata": {
        "colab": {
          "base_uri": "https://localhost:8080/"
        },
        "id": "0jDMkoi-27If",
        "outputId": "09c002a9-ecbf-4230-f154-11eaafa33dab"
      },
      "execution_count": 2,
      "outputs": [
        {
          "output_type": "stream",
          "name": "stdout",
          "text": [
            "Looking in indexes: https://pypi.org/simple, https://us-python.pkg.dev/colab-wheels/public/simple/\n",
            "Collecting git+https://github.com/ramanakshay/Optimal-Transport.git\n",
            "  Cloning https://github.com/ramanakshay/Optimal-Transport.git to /tmp/pip-req-build-okqznzqb\n",
            "  Running command git clone -q https://github.com/ramanakshay/Optimal-Transport.git /tmp/pip-req-build-okqznzqb\n",
            "Requirement already satisfied: numpy in /usr/local/lib/python3.7/dist-packages (from utils==0.1.0) (1.21.6)\n",
            "Requirement already satisfied: matplotlib in /usr/local/lib/python3.7/dist-packages (from utils==0.1.0) (3.2.2)\n",
            "Requirement already satisfied: pyparsing!=2.0.4,!=2.1.2,!=2.1.6,>=2.0.1 in /usr/local/lib/python3.7/dist-packages (from matplotlib->utils==0.1.0) (3.0.9)\n",
            "Requirement already satisfied: python-dateutil>=2.1 in /usr/local/lib/python3.7/dist-packages (from matplotlib->utils==0.1.0) (2.8.2)\n",
            "Requirement already satisfied: kiwisolver>=1.0.1 in /usr/local/lib/python3.7/dist-packages (from matplotlib->utils==0.1.0) (1.4.4)\n",
            "Requirement already satisfied: cycler>=0.10 in /usr/local/lib/python3.7/dist-packages (from matplotlib->utils==0.1.0) (0.11.0)\n",
            "Requirement already satisfied: typing-extensions in /usr/local/lib/python3.7/dist-packages (from kiwisolver>=1.0.1->matplotlib->utils==0.1.0) (4.1.1)\n",
            "Requirement already satisfied: six>=1.5 in /usr/local/lib/python3.7/dist-packages (from python-dateutil>=2.1->matplotlib->utils==0.1.0) (1.15.0)\n",
            "Building wheels for collected packages: utils\n",
            "  Building wheel for utils (setup.py) ... \u001b[?25l\u001b[?25hdone\n",
            "  Created wheel for utils: filename=utils-0.1.0-py3-none-any.whl size=3084 sha256=0fe5fdb7514162f330c69114a993746ad96df2edcb25aa34a634a66c51c2a0f9\n",
            "  Stored in directory: /tmp/pip-ephem-wheel-cache-zg_z3hz7/wheels/83/c1/b0/8b4aae55c1a6c852e5e98d2e522e0c76c069f92e4d3885455f\n",
            "Successfully built utils\n",
            "Installing collected packages: utils\n",
            "Successfully installed utils-0.1.0\n"
          ]
        }
      ]
    },
    {
      "cell_type": "code",
      "source": [
        "import numpy as np \n",
        "\n",
        "import matplotlib.pyplot as plt # plotting\n",
        "\n",
        "import ot  # ot\n",
        "import ot.plot\n",
        "from prettytable import PrettyTable\n",
        "\n",
        "import time # measure time\n",
        "from numpy import random\n",
        "\n",
        "from tqdm import tqdm #progress bar\n",
        "from IPython.display import clear_output"
      ],
      "metadata": {
        "id": "3MNBAo0U280L"
      },
      "execution_count": 3,
      "outputs": []
    },
    {
      "cell_type": "code",
      "source": [
        "from utils.plot import plot_matrix,plot_2d_map\n",
        "from utils.dist import find_cost_tensor"
      ],
      "metadata": {
        "id": "9G6hnXC2HbA5"
      },
      "execution_count": 4,
      "outputs": []
    },
    {
      "cell_type": "markdown",
      "source": [
        "## Sinkhorn Solver Class"
      ],
      "metadata": {
        "id": "rn-6xyea87h6"
      }
    },
    {
      "cell_type": "code",
      "source": [
        "class SinkhornSolver(object):\n",
        "  def __init__(self,A,C):\n",
        "    self.A = A\n",
        "    self.C = C\n",
        "    self.n = A.shape[0]\n",
        "    self.size = A.shape[1]\n",
        "  \n",
        "  def initialise(self,kind):\n",
        "    if (kind == \"ones\"):\n",
        "      return np.ones((self.n,self.size))\n",
        "    elif (kind == \"random\"):\n",
        "      return random.rand(self.n,self.size)\n",
        "    else:\n",
        "      raise ValueError(\"Invalid Argument: \" + kind + \" is not a valid type.\")\n",
        "\n",
        "#-----------------------------HELPER FUNCTIONS---------------------------------#\n",
        "  def multiply(self,P,U,i):\n",
        "    shape = [1]*self.n\n",
        "    shape[i] = self.size\n",
        "    shape = tuple(shape)\n",
        "    temp = U[i].reshape(shape)\n",
        "    return P * temp\n",
        "\n",
        "  def divide(self,P,U,i):\n",
        "    shape = [1]*self.n\n",
        "    shape[i] = self.size\n",
        "    shape = tuple(shape)\n",
        "    temp = U[i].reshape(shape)\n",
        "    return P / temp\n",
        "\n",
        "  def sum_to_vector(self,P,i):\n",
        "    axes = list(range(n))\n",
        "    axes.remove(i)\n",
        "    axes = tuple(axes)\n",
        "    return np.sum(P,axis = axes)\n",
        "\n",
        "#-----------------------------GENERIC SINKHORN---------------------------------#\n",
        "\n",
        "  def generic_sinkhorn(self,epsilon,niter,kind = \"ones\"):\n",
        "    U = self.initialise(kind)\n",
        "    K = np.exp(-self.C/epsilon)\n",
        "    P = np.copy(K)\n",
        "\n",
        "    #initialise P\n",
        "    for i in range(self.n):\n",
        "      P = self.multiply(P,U,i)\n",
        "    \n",
        "    #loop\n",
        "    for it in tqdm(range(niter)):\n",
        "      for i in range(self.n):\n",
        "        P = self.divide(P,U,i)\n",
        "        U[i] = self.A[i] / self.sum_to_vector(P,i)\n",
        "        P = self.multiply(P,U,i)\n",
        "    \n",
        "    #return coupling\n",
        "    return P\n",
        "\n",
        "#--------------------------------AUTO SINKHORN---------------------------------#\n",
        "\n",
        "  def auto_sinkhorn(self,epsilon,error,kind = \"ones\"):\n",
        "    U = self.initialise(kind)\n",
        "    K = np.exp(-self.C/epsilon)\n",
        "    P = np.copy(K)\n",
        "\n",
        "    #initialise P\n",
        "    for i in range(self.n):\n",
        "      P = self.multiply(P,U,i)\n",
        "    \n",
        "    #loop\n",
        "    iter = 0\n",
        "    while(True):\n",
        "      for i in range(self.n):\n",
        "        P = self.divide(P,U,i)\n",
        "        U[i] = self.A[i] / self.sum_to_vector(P,i)\n",
        "        P = self.multiply(P,U,i)\n",
        "\n",
        "      #marginal condition\n",
        "      flag = True\n",
        "      max_error = -1\n",
        "      for i in range(self.n):\n",
        "        if (np.any(abs(self.sum_to_vector(P,i) - self.A[i]) >= error)):\n",
        "          flag = False\n",
        "        clear_output(wait = True)\n",
        "        max_error = max(max_error,np.max(abs(self.sum_to_vector(P,i) - self.A[i])))\n",
        "      if(flag):\n",
        "        break\n",
        "\n",
        "      print(\"Maximum Error:\",max_error)\n",
        "      print(\"#Iterations:\",iter)\n",
        "      \n",
        "      iter += 1\n",
        "\n",
        "    #return coupling  \n",
        "    return P\n",
        "\n",
        "#--------------------------------RANDOM SINKHORN-------------------------------#\n",
        "\n",
        "  def random_sinkhorn(self,epsilon,error,k = None,kind = \"ones\"):\n",
        "    if (k == None):\n",
        "      k = self.n\n",
        "\n",
        "    U = self.initialise(kind)\n",
        "    K = np.exp(-self.C/epsilon)\n",
        "    P = np.copy(K)\n",
        "\n",
        "    #initialise P\n",
        "    for i in range(self.n):\n",
        "      P = self.multiply(P,U,i)\n",
        "    \n",
        "    #loop\n",
        "    iter = 0\n",
        "    while(True):\n",
        "      for i in random.choice(self.n, k, replace=False):\n",
        "        P = self.divide(P,U,i)\n",
        "        U[i] = self.A[i] / self.sum_to_vector(P,i)\n",
        "        P = self.multiply(P,U,i)\n",
        "\n",
        "      #marginal condition\n",
        "      flag = True\n",
        "      max_error = -1\n",
        "      for i in range(self.n):\n",
        "        if (np.any(abs(self.sum_to_vector(P,i) - self.A[i]) >= error)):\n",
        "          flag = False\n",
        "        clear_output(wait = True)\n",
        "        max_error = max(max_error,np.max(abs(self.sum_to_vector(P,i) - self.A[i])))\n",
        "      if(flag):\n",
        "        break\n",
        "      \n",
        "      print(\"Maximum Error:\",max_error)\n",
        "      print(\"#Iterations:\",iter)\n",
        "\n",
        "      iter += 1\n",
        "\n",
        "    #return coupling  \n",
        "    return P\n",
        "\n",
        "#------------------------------------------------------------------------------#"
      ],
      "metadata": {
        "id": "G-whNe57dayU"
      },
      "execution_count": 5,
      "outputs": []
    },
    {
      "cell_type": "markdown",
      "source": [
        "## 1D Marginals"
      ],
      "metadata": {
        "id": "EGdgSY8W-BZl"
      }
    },
    {
      "cell_type": "markdown",
      "source": [
        "### Gaussian Distribution"
      ],
      "metadata": {
        "id": "CHiWjVRQF6Nc"
      }
    },
    {
      "cell_type": "code",
      "source": [
        "def gaussian_mix(n,mu,std,scale = None):\n",
        "  assert len(mu) == len(std)\n",
        "  if scale == None:\n",
        "    scale = [1]*len(mu)\n",
        "  x = np.arange(n, dtype = np.float64)\n",
        "  h = 0\n",
        "  for i in range(len(mu)):\n",
        "    h += np.exp(-(x - mu[i]) ** 2 / (2 * std[i] ** 2))*scale[i]\n",
        "  return h / h.sum()"
      ],
      "metadata": {
        "id": "sMSxNTMR28-V"
      },
      "execution_count": 6,
      "outputs": []
    },
    {
      "cell_type": "code",
      "source": [
        "# n = 3\n",
        "# size = 100\n",
        "\n",
        "# A = np.empty((n,size), float)\n",
        "# A[0] = gaussian_mix(size,[10,50],[5,15],[2,1])\n",
        "# A[1] = gaussian_mix(size,[15,60],[2,10],[1.5,1])\n",
        "# A[2] = gaussian_mix(size,[20,80],[10,5],[1,1])\n",
        "# #A[3] = gaussian_mix(size,[25,70],[5,10],[1.5,1])\n",
        "\n",
        "# x = np.array([[i,] for i in range(size)]) # defining the space\n",
        "# X = np.tile(x.T,(n,1))"
      ],
      "metadata": {
        "id": "mwG05Gz129BN"
      },
      "execution_count": null,
      "outputs": []
    },
    {
      "cell_type": "code",
      "source": [
        "n = 2\n",
        "size = 100\n",
        "\n",
        "A = np.empty((n,size), float)\n",
        "A[0]  = A[1] = gaussian_mix(size,[50],[10],[1])\n",
        "# A[1] = gaussian_mix(size,[30],[15],[1])\n",
        "# A[2] = gaussian_mix(size,[70],[10],[1])\n",
        "#A[3] = gaussian_mix(size,[25,70],[5,10],[1.5,1])\n",
        "\n",
        "x = np.array([[i,] for i in range(size)]) # defining the space\n",
        "X = np.tile(x.T,(n,1))"
      ],
      "metadata": {
        "id": "PvH1EgjTFAqr"
      },
      "execution_count": 7,
      "outputs": []
    },
    {
      "cell_type": "code",
      "source": [
        "#Plot distributions\n",
        "plt.figure(figsize=(10, 5))\n",
        "plt.plot(x, A[0], 'b', label='A')\n",
        "plt.plot(x, A[1], 'r', label='B')\n",
        "#plt.plot(x, A[2], 'g', label='C')\n",
        "#plt.plot(x, A[3], 'y', label='D')\n",
        "plt.legend()\n",
        "plt.show()"
      ],
      "metadata": {
        "colab": {
          "base_uri": "https://localhost:8080/",
          "height": 320
        },
        "id": "qcZqH5LUJp9G",
        "outputId": "147e5dab-b7f2-4cbb-ceab-97f76feb90ec"
      },
      "execution_count": 8,
      "outputs": [
        {
          "output_type": "display_data",
          "data": {
            "text/plain": [
              "<Figure size 720x360 with 1 Axes>"
            ],
            "image/png": "[encoded data removed]"
          },
          "metadata": {
            "needs_background": "light"
          }
        }
      ]
    },
    {
      "cell_type": "markdown",
      "source": [
        "### Cost Tensor"
      ],
      "metadata": {
        "id": "02ikf_8dGG44"
      }
    },
    {
      "cell_type": "code",
      "source": [
        "C = find_cost_tensor(X)\n",
        "Cm = np.sum(C,axis = 2)\n",
        "print(C.shape)\n",
        "plot_matrix(Cm,x,x)"
      ],
      "metadata": {
        "id": "g9uao1U029DW",
        "colab": {
          "base_uri": "https://localhost:8080/",
          "height": 407
        },
        "outputId": "c484f22e-b3f0-44a2-f2c9-0b199def22dd"
      },
      "execution_count": 9,
      "outputs": [
        {
          "output_type": "error",
          "ename": "AxisError",
          "evalue": "ignored",
          "traceback": [
            "\u001b[0;31m---------------------------------------------------------------------------\u001b[0m",
            "\u001b[0;31mAxisError\u001b[0m                                 Traceback (most recent call last)",
            "\u001b[0;32m<ipython-input-9-d7ac7bbff3b9>\u001b[0m in \u001b[0;36m<module>\u001b[0;34m()\u001b[0m\n\u001b[1;32m      1\u001b[0m \u001b[0mC\u001b[0m \u001b[0;34m=\u001b[0m \u001b[0mfind_cost_tensor\u001b[0m\u001b[0;34m(\u001b[0m\u001b[0mX\u001b[0m\u001b[0;34m)\u001b[0m\u001b[0;34m\u001b[0m\u001b[0;34m\u001b[0m\u001b[0m\n\u001b[0;32m----> 2\u001b[0;31m \u001b[0mCm\u001b[0m \u001b[0;34m=\u001b[0m \u001b[0mnp\u001b[0m\u001b[0;34m.\u001b[0m\u001b[0msum\u001b[0m\u001b[0;34m(\u001b[0m\u001b[0mC\u001b[0m\u001b[0;34m,\u001b[0m\u001b[0maxis\u001b[0m \u001b[0;34m=\u001b[0m \u001b[0;36m2\u001b[0m\u001b[0;34m)\u001b[0m\u001b[0;34m\u001b[0m\u001b[0;34m\u001b[0m\u001b[0m\n\u001b[0m\u001b[1;32m      3\u001b[0m \u001b[0mprint\u001b[0m\u001b[0;34m(\u001b[0m\u001b[0mC\u001b[0m\u001b[0;34m.\u001b[0m\u001b[0mshape\u001b[0m\u001b[0;34m)\u001b[0m\u001b[0;34m\u001b[0m\u001b[0;34m\u001b[0m\u001b[0m\n\u001b[1;32m      4\u001b[0m \u001b[0mplot_matrix\u001b[0m\u001b[0;34m(\u001b[0m\u001b[0mCm\u001b[0m\u001b[0;34m,\u001b[0m\u001b[0mx\u001b[0m\u001b[0;34m,\u001b[0m\u001b[0mx\u001b[0m\u001b[0;34m)\u001b[0m\u001b[0;34m\u001b[0m\u001b[0;34m\u001b[0m\u001b[0m\n",
            "\u001b[0;32m<__array_function__ internals>\u001b[0m in \u001b[0;36msum\u001b[0;34m(*args, **kwargs)\u001b[0m\n",
            "\u001b[0;32m/usr/local/lib/python3.7/dist-packages/numpy/core/fromnumeric.py\u001b[0m in \u001b[0;36msum\u001b[0;34m(a, axis, dtype, out, keepdims, initial, where)\u001b[0m\n\u001b[1;32m   2258\u001b[0m \u001b[0;34m\u001b[0m\u001b[0m\n\u001b[1;32m   2259\u001b[0m     return _wrapreduction(a, np.add, 'sum', axis, dtype, out, keepdims=keepdims,\n\u001b[0;32m-> 2260\u001b[0;31m                           initial=initial, where=where)\n\u001b[0m\u001b[1;32m   2261\u001b[0m \u001b[0;34m\u001b[0m\u001b[0m\n\u001b[1;32m   2262\u001b[0m \u001b[0;34m\u001b[0m\u001b[0m\n",
            "\u001b[0;32m/usr/local/lib/python3.7/dist-packages/numpy/core/fromnumeric.py\u001b[0m in \u001b[0;36m_wrapreduction\u001b[0;34m(obj, ufunc, method, axis, dtype, out, **kwargs)\u001b[0m\n\u001b[1;32m     84\u001b[0m                 \u001b[0;32mreturn\u001b[0m \u001b[0mreduction\u001b[0m\u001b[0;34m(\u001b[0m\u001b[0maxis\u001b[0m\u001b[0;34m=\u001b[0m\u001b[0maxis\u001b[0m\u001b[0;34m,\u001b[0m \u001b[0mout\u001b[0m\u001b[0;34m=\u001b[0m\u001b[0mout\u001b[0m\u001b[0;34m,\u001b[0m \u001b[0;34m**\u001b[0m\u001b[0mpasskwargs\u001b[0m\u001b[0;34m)\u001b[0m\u001b[0;34m\u001b[0m\u001b[0;34m\u001b[0m\u001b[0m\n\u001b[1;32m     85\u001b[0m \u001b[0;34m\u001b[0m\u001b[0m\n\u001b[0;32m---> 86\u001b[0;31m     \u001b[0;32mreturn\u001b[0m \u001b[0mufunc\u001b[0m\u001b[0;34m.\u001b[0m\u001b[0mreduce\u001b[0m\u001b[0;34m(\u001b[0m\u001b[0mobj\u001b[0m\u001b[0;34m,\u001b[0m \u001b[0maxis\u001b[0m\u001b[0;34m,\u001b[0m \u001b[0mdtype\u001b[0m\u001b[0;34m,\u001b[0m \u001b[0mout\u001b[0m\u001b[0;34m,\u001b[0m \u001b[0;34m**\u001b[0m\u001b[0mpasskwargs\u001b[0m\u001b[0;34m)\u001b[0m\u001b[0;34m\u001b[0m\u001b[0;34m\u001b[0m\u001b[0m\n\u001b[0m\u001b[1;32m     87\u001b[0m \u001b[0;34m\u001b[0m\u001b[0m\n\u001b[1;32m     88\u001b[0m \u001b[0;34m\u001b[0m\u001b[0m\n",
            "\u001b[0;31mAxisError\u001b[0m: axis 2 is out of bounds for array of dimension 2"
          ]
        }
      ]
    },
    {
      "cell_type": "markdown",
      "source": [
        "## Sinkhorn Algorithms"
      ],
      "metadata": {
        "id": "EJBsEvbkGJFg"
      }
    },
    {
      "cell_type": "code",
      "source": [
        "solver = SinkhornSolver(A,C)"
      ],
      "metadata": {
        "id": "fTFVnzDdjwNi"
      },
      "execution_count": 10,
      "outputs": []
    },
    {
      "cell_type": "code",
      "source": [
        "P = solver.auto_sinkhorn(1e-3,1e-6,kind=\"random\")"
      ],
      "metadata": {
        "id": "lc5V4lZEj-F4",
        "outputId": "784a39da-5c03-4ab1-ef75-d9487a941d2b",
        "colab": {
          "base_uri": "https://localhost:8080/"
        }
      },
      "execution_count": 11,
      "outputs": [
        {
          "output_type": "stream",
          "name": "stdout",
          "text": [
            "Maximum Error: 1.0394972248042866e-06\n",
            "#Iterations: 182\n"
          ]
        }
      ]
    },
    {
      "cell_type": "code",
      "source": [
        "P = solver.generic_sinkhorn(1e-3,1000)"
      ],
      "metadata": {
        "id": "jr7P_QM-b5V0",
        "outputId": "54f3dd79-1341-4452-8192-919c2f898b5a",
        "colab": {
          "base_uri": "https://localhost:8080/"
        }
      },
      "execution_count": null,
      "outputs": [
        {
          "output_type": "stream",
          "name": "stderr",
          "text": [
            "100%|██████████| 1000/1000 [00:16<00:00, 60.41it/s]\n"
          ]
        }
      ]
    },
    {
      "cell_type": "code",
      "source": [
        "#Pm = np.sum(P,axis = 2)\n",
        "\n",
        "# count = 0\n",
        "# for i in range(Pm.shape[0]):\n",
        "#   for j in range(Pm.shape[1]):\n",
        "#     if Pm[i][j] > 0:\n",
        "#       count += 1\n",
        "#     if Pm[i][j] > 1e-5:\n",
        "#       Pm[i][j] = 1\n",
        "#     else:\n",
        "#       Pm[i][j] = 0\n",
        "# print(count)\n",
        "\n",
        "plt.figure(figsize=(7, 7))\n",
        "ot.plot.plot1D_mat(A[0], A[1], P, 'Coupling Projection')"
      ],
      "metadata": {
        "colab": {
          "base_uri": "https://localhost:8080/",
          "height": 513
        },
        "id": "1ZJdEdP00zyq",
        "outputId": "20fd6c85-f1cb-4b04-d3f6-09c105fd1d78"
      },
      "execution_count": 13,
      "outputs": [
        {
          "output_type": "display_data",
          "data": {
            "text/plain": [
              "<Figure size 504x504 with 3 Axes>"
            ],
            "image/png": "[encoded data removed]"
          },
          "metadata": {
            "needs_background": "light"
          }
        }
      ]
    },
    {
      "cell_type": "code",
      "source": [
        "Pv = np.sum(P,axis = (1,2))\n",
        "plt.figure(figsize=(10, 5))\n",
        "plt.plot(x, A[0], 'b', label='Exact')\n",
        "plt.plot(x, Pv, 'g', label='Approximate')\n",
        "plt.legend()\n",
        "plt.show()"
      ],
      "metadata": {
        "id": "APbOLfaoWA5k",
        "outputId": "5a4c081c-a580-4a78-c1a8-0b8b2779e929",
        "colab": {
          "base_uri": "https://localhost:8080/",
          "height": 320
        }
      },
      "execution_count": null,
      "outputs": [
        {
          "output_type": "display_data",
          "data": {
            "text/plain": [
              "<Figure size 720x360 with 1 Axes>"
            ],
            "image/png": "[encoded data removed]"
          },
          "metadata": {
            "needs_background": "light"
          }
        }
      ]
    },
    {
      "cell_type": "markdown",
      "source": [
        "### OT Total Cost"
      ],
      "metadata": {
        "id": "_eS--fs8GYuv"
      }
    },
    {
      "cell_type": "code",
      "source": [
        "OT = np.sum(C*P)\n",
        "print(OT)"
      ],
      "metadata": {
        "colab": {
          "base_uri": "https://localhost:8080/"
        },
        "id": "MkD0fo8U9quW",
        "outputId": "6a62e851-b21b-4b91-bdaf-2d10735fe31a"
      },
      "execution_count": null,
      "outputs": [
        {
          "output_type": "stream",
          "name": "stdout",
          "text": [
            "0.2215746076094513\n"
          ]
        }
      ]
    }
  ]
}